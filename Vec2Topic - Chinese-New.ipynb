{
 "cells": [
  {
   "cell_type": "markdown",
   "metadata": {},
   "source": [
    "Topic Modeling Using Distributed Word Embeddings\n",
    "================================================\n",
    "Notebook version of https://github.com/rsrandhawa/Vec2Topic code, based on the article \"Topic Modeling Using Distributed Word Embeddings\" by R. S. Randhawa, P. Jain, and G. Madan. \n",
    "\n",
    "The basic approach is to first create a language model based on a large (ideally billions of words) text corpus. The technology used, distributed word embeddings, is a shallow neural network that seems to perform best on large datasets (trades simple but fast computation for tons of data).\n",
    "\n",
    "The user generated content (which is usually a much smaller corpus) is likewise trained with consistent parameters. Vectors corresponding to the same vocabulary word are concatenated together to provide a model of the user generated content.\n",
    "\n",
    "Word vectors that cluster together are interperted as topics of the user generated content. Some clusters appear better than others because they consist of coherent lists of words -- main goal is to score the importance of each topic.\n",
    "\n",
    "Performing a hierarchical clustering provides a measure of depth for each word and computing a co-occurance graph (edge between two words if they belong to the same sentenence) provides a degree of co-occurance. Each word is scored by a (normalized) product of depth and degree. The awesome `hdbscan` is used to cluster words into topics, and the scoring function is used to order the words and the topics. Sample below with `min_cluster_size=5`.\n",
    "\n",
    "![Topics](topics.png)\n",
    "\n",
    "![Sentences](sentences.png)"
   ]
  },
  {
   "cell_type": "markdown",
   "metadata": {},
   "source": [
    "Required standard packages\n",
    "--------------------------"
   ]
  },
  {
   "cell_type": "code",
   "execution_count": null,
   "metadata": {
    "collapsed": false
   },
   "outputs": [],
   "source": [
    "import logging, re, os, bz2, gzip, subprocess, uuid\n",
    "from collections import Counter\n",
    "from operator import itemgetter\n",
    "import itertools"
   ]
  },
  {
   "cell_type": "code",
   "execution_count": null,
   "metadata": {
    "collapsed": false
   },
   "outputs": [],
   "source": [
    "## Unicode wrapper for reading & writing csv files.\n",
    "import unicodecsv as csv\n",
    "\n",
    "## Lighter weight than pandas -- tabular display of tables.\n",
    "from tabulate import tabulate\n",
    "\n",
    "## In order to strip out the text from the xml formated data.\n",
    "from bs4 import BeautifulSoup\n",
    "import lxml"
   ]
  },
  {
   "cell_type": "markdown",
   "metadata": {},
   "source": [
    "Required data science packages\n",
    "------------------------------"
   ]
  },
  {
   "cell_type": "code",
   "execution_count": null,
   "metadata": {
    "collapsed": false
   },
   "outputs": [],
   "source": [
    "## First the usual suspects: numpy, pandas, scipy, and gensim\n",
    "import numpy as np\n",
    "import pandas as pd\n",
    "import scipy as sp\n",
    "import gensim\n",
    "\n",
    "## For scraping text out of a wikipedia dump. Get dumps at https://dumps.wikimedia.org/backup-index.html\n",
    "from gensim.corpora import WikiCorpus\n",
    "\n",
    "## Latest greatest word vectors (see https://pypi.python.org/pypi/fasttext).\n",
    "import fasttext\n",
    "\n",
    "## Package for segmenenting and findin parts-of-speech for Chinese.\n",
    "import jieba\n",
    "import jieba.posseg as pseg\n",
    "\n",
    "## Latest greatest hierarchical clustering package. \n",
    "## Word vectors are clustered, with deeper trees indicating core topics.\n",
    "import hdbscan\n",
    "\n",
    "## Use scikit-learn to generate co-occurancy graph (edge if words in same sentence).\n",
    "## The degree of each word indicates how strong it co-occurs.\n",
    "from sklearn.feature_extraction.text import TfidfTransformer, CountVectorizer\n",
    "\n",
    "import bhtsne"
   ]
  },
  {
   "cell_type": "markdown",
   "metadata": {},
   "source": [
    "Base data directory and logging.\n",
    "--------------------------------\n",
    "The approach currently uses a lot of intermediate files (which is annoying, but means that the project can work on machines with smaller physical memory). The initial data (knowledge base as well as user generated content) and the intermediate files are all kept in the data directory."
   ]
  },
  {
   "cell_type": "code",
   "execution_count": null,
   "metadata": {
    "collapsed": true
   },
   "outputs": [],
   "source": [
    "data_directory = 'data/'\n",
    "model_directory = 'models/'"
   ]
  },
  {
   "cell_type": "code",
   "execution_count": null,
   "metadata": {
    "collapsed": true
   },
   "outputs": [],
   "source": [
    "from imp import reload\n",
    "reload(logging)\n",
    "\n",
    "LOG_FILENAME = data_directory + 'vec2topic.log'\n",
    "#logging.basicConfig(filename=LOG_FILENAME,level=logging.INFO)\n",
    "logging.basicConfig(level=logging.INFO)\n",
    "logger = logging.getLogger()\n",
    "logger.setLevel(logging.INFO)\n",
    "formatter = logging.Formatter('%(asctime)s %(message)s',\"%b-%d-%Y %H:%M:%S\")\n",
    "logger.handlers[0].setFormatter(formatter)"
   ]
  },
  {
   "cell_type": "markdown",
   "metadata": {},
   "source": [
    "List of intermediate files.\n",
    "---------------------------\n",
    "The (global) knowledge base is built off a (large) dataset."
   ]
  },
  {
   "cell_type": "code",
   "execution_count": null,
   "metadata": {
    "collapsed": false
   },
   "outputs": [],
   "source": [
    "knowledge_base = 'zhwiki-20160920-pages-articles.xml.bz2'\n",
    "    \n",
    "knowledge_base_vector_dimension = 200    # Word vector dimensionality for knowledge base.\n",
    "knowledge_base_prefix = 'zhwiki-20160920-pages-articles'\n",
    "\n",
    "knowledge_base_text = data_directory + knowledge_base_prefix + '.xml.txt'\n",
    "knowledge_base_phrases = data_directory + knowledge_base_prefix + '_phrases.txt'\n",
    "\n",
    "knowledge_base_model = model_directory + knowledge_base_prefix + '.bin'\n",
    "knowledge_base_vectors = model_directory + knowledge_base_prefix + '.vec'\n",
    "knowledge_base_vectors_tsne = model_directory + knowledge_base_prefix + '_vec_tsne.txt'\n",
    "knowledge_base_vocab = model_directory + knowledge_base_prefix + '_vocab.txt'"
   ]
  },
  {
   "cell_type": "markdown",
   "metadata": {},
   "source": [
    "The (local) user generated content."
   ]
  },
  {
   "cell_type": "code",
   "execution_count": null,
   "metadata": {
    "collapsed": false
   },
   "outputs": [],
   "source": [
    "local_content_name = 'OpenSubtitles2016_xml_zh_2015_369610_6206526'\n",
    "local_content_vector_dimension = 25\n",
    "\n",
    "local_content = data_directory + local_content_name\n",
    "\n",
    "## Intermediate files associated in proccessing input with external Java package JVnTextPro.\n",
    "local_content_xml = local_content + '.xml'\n",
    "local_content_txt = local_content + '.txt'\n",
    "\n",
    "## Intermediate files resulting from computation of word embeddings using fastText package.\n",
    "local_content_vectors = model_directory + local_content_name + '.vec'\n",
    "local_content_model = model_directory + local_content_name + '.bin'\n",
    "\n",
    "## Projected 2D vectors useful for visualization.\n",
    "local_content_vectors_tsne = model_directory + local_content_name + '_vec_tsne.txt'"
   ]
  },
  {
   "cell_type": "code",
   "execution_count": null,
   "metadata": {
    "collapsed": false
   },
   "outputs": [],
   "source": [
    "combined_vectors = model_directory + local_content_name + '.combined_vectors.txt'\n",
    "combined_vectors_tsne = model_directory + local_content_name + '.combined_vectors_tsne.txt'"
   ]
  },
  {
   "cell_type": "markdown",
   "metadata": {},
   "source": [
    "Global knowledge vectors -- wikipedia & Leipzig Corpora\n",
    "-------------------------------------------------------\n",
    "First step is to compute word embeddings of a global knowledge base (e.g. wikipedia or the Leipzig Corpora) to capture the generic meaning of words in widely used contexts.\n",
    "\n",
    "The gensim package has examples of processing wikipedia dumps as well as streaming corpus implementation. The article just glosses over these steps and the sample github code grabs an undocumented data set from the authors drobbox account. In the cells below we rely on word2vec:\n",
    "<pre>\n",
    "git clone https://github.com/tmikolov/word2vec.git\n",
    "</pre>\n",
    "Also, in order to compute the t-sne embeddings with a c-language program, used bhtsne:\n",
    "<pre>\n",
    "git clone https://github.com/lvdmaaten/bhtsne.git\n",
    "</pre>\n",
    "When using jupyter-gallery docker image, usually install these in the /root directory. Hardwired into this notebook. \n",
    "\n",
    "**TODO:** \n",
    "* Parse the wikipedia dump name and use it as the prefix for the other intermediate files.\n",
    "* Download a wikipedia dump if it doesn't already exist.\n",
    "* Make things work for other languages (hundreds of wikipedias).\n",
    "* Check that WikiCorpus does lowercase each word.\n",
    "* Handle stopwords and substitution lists consistently.\n",
    "* Stem global and local data sets.\n",
    "* Check to see any value of using textblob over nltk."
   ]
  },
  {
   "cell_type": "markdown",
   "metadata": {},
   "source": [
    "### Process wikipedia dump\n",
    "First download the wikipedia dump and place it in the data directory before running this notebook. The cell below will use the gensim class WikiCorpus to strip the wikipedia markup and store each article as one line of the output text file. Only do these computations once if possible.\n",
    "\n",
    "<pre>\n",
    "+----------------------------------------+-----------------+--------+\n",
    "| File                                   | No. Articles    | Time   |\n",
    "|----------------------------------------+-----------------+--------|\n",
    "| zhwiki-20160920-pages-articles.xml.bz2 | 271318 articles | 1hr    |\n",
    "+----------------------------------------+-----------------+--------+\n",
    "</pre>"
   ]
  },
  {
   "cell_type": "code",
   "execution_count": null,
   "metadata": {
    "collapsed": false
   },
   "outputs": [],
   "source": [
    "knowledge_base"
   ]
  },
  {
   "cell_type": "code",
   "execution_count": null,
   "metadata": {
    "collapsed": false
   },
   "outputs": [],
   "source": [
    "print tabulate([['File','No. Articles','Time'],['zhwiki-20160920-pages-articles.xml.bz2','271318 articles','1hr']],tablefmt=u'psql',headers='firstrow')"
   ]
  },
  {
   "cell_type": "code",
   "execution_count": null,
   "metadata": {
    "collapsed": false,
    "scrolled": true
   },
   "outputs": [],
   "source": [
    "if not os.path.isfile(knowledge_base_text):\n",
    "    space = ' '\n",
    "    i = 0\n",
    "    output = open(knowledge_base_text, 'wb')\n",
    "    logger.info('Processing knowledge base %s', knowledge_base)\n",
    "    wiki = WikiCorpus(data_directory + knowledge_base, lemmatize=False, dictionary={})\n",
    "    for text in wiki.get_texts():\n",
    "        for part in text:\n",
    "            part = part.decode(\"utf-8\")\n",
    "            part = ' '.join([w[0] for w in jieba.tokenize(part)])\n",
    "            output.write(part.encode('utf-8') + \"\\n\")      \n",
    "        i = i + 1\n",
    "        if (i % 10000 == 0):\n",
    "            logger.info(\"Saved \" + str(i) + \" articles\")\n",
    "    output.close()\n",
    "    logger.info(\"Finished Saved \" + str(i) + \" articles\")\n",
    "else:\n",
    "    logger.info('Knowledge base %s already on disk.', knowledge_base_text)"
   ]
  },
  {
   "cell_type": "code",
   "execution_count": null,
   "metadata": {
    "collapsed": true
   },
   "outputs": [],
   "source": [
    "### Compute word vectors for knowledge base"
   ]
  },
  {
   "cell_type": "code",
   "execution_count": null,
   "metadata": {
    "collapsed": false
   },
   "outputs": [],
   "source": [
    "!ls -lh {knowledge_base_vectors}\n",
    "!ls -lh {knowledge_base_model}"
   ]
  },
  {
   "cell_type": "code",
   "execution_count": null,
   "metadata": {
    "collapsed": false
   },
   "outputs": [],
   "source": [
    "if not os.path.isfile(knowledge_base_model):\n",
    "    knowledge_base_skipgram = fasttext.skipgram(knowledge_base_text, model_directory + knowledge_base_prefix, \n",
    "        lr=0.02, dim=knowledge_base_vector_dimension, ws=5,\n",
    "        epoch=1, min_count=5, neg=5, loss='ns', bucket=2000000, minn=3, maxn=6,\n",
    "        thread=8, t=1e-4, lr_update_rate=100)\n",
    "else:\n",
    "    logger.info('Knowledge vectors %s already on disk.', knowledge_base_model)\n",
    "    knowledge_base_skipgram = fasttext.load_model(knowledge_base_model)"
   ]
  },
  {
   "cell_type": "markdown",
   "metadata": {},
   "source": [
    "Simple test to see if the model created/read ok."
   ]
  },
  {
   "cell_type": "code",
   "execution_count": null,
   "metadata": {
    "collapsed": false
   },
   "outputs": [],
   "source": [
    "print u'超级市场' in knowledge_base_skipgram\n",
    "print u'siêu_thị' in knowledge_base_skipgram\n",
    "print u'supermarket' in knowledge_base_skipgram"
   ]
  },
  {
   "cell_type": "markdown",
   "metadata": {},
   "source": [
    "Create a counter to keep track of the knowledge base vocabulary. Later the sample code uses this to find the vocabulary in common between the knowledge base and the user generated data. Try to process both data sets in the same way."
   ]
  },
  {
   "cell_type": "code",
   "execution_count": null,
   "metadata": {
    "collapsed": false
   },
   "outputs": [],
   "source": [
    "knowledge_base_exist = Counter()\n",
    "for w in knowledge_base_skipgram.words:\n",
    "    knowledge_base_exist[w.lower()] = w.lower()\n",
    "knowledge_base_vocab_lowercase = knowledge_base_exist.keys()"
   ]
  },
  {
   "cell_type": "code",
   "execution_count": null,
   "metadata": {
    "collapsed": false
   },
   "outputs": [],
   "source": [
    "logger.info(u'超级市场: %s', knowledge_base_exist[u'超级市场'])\n",
    "logger.info('funky: %s', knowledge_base_exist[u'funky'])\n",
    "logger.info('san_diego: %s', knowledge_base_exist[u'san_diego'])"
   ]
  },
  {
   "cell_type": "markdown",
   "metadata": {},
   "source": [
    "User content vectors -- OpenSubtitles2016\n",
    "-----------------------------------------\n",
    "OpenSubtitles is a very useful project for language analysis since it has a decent collection of parrallel sentences -- the foreign language captions that enthusiasts have created for their favorite movies.\n",
    "\n",
    "---\n",
    "Start with an `input.xml`, file listing captions from foreign film' obtained from the OpenSubtitle project. The final segmented text is input_text.txt.wseg (local_content_txt_sent_tkn_wseg). The parts of speech tagging is required in order to strip out the nouns (better labels for topics).\n",
    "\n",
    "<pre>\n",
    "BeautifulSoup:                     input.xml -> input.txt \n",
    "                           local_content_xml -> local_content_txt   \n",
    "JVnSenSegmenter:                   input.txt -> input.txt.sent\n",
    "                           local_content_txt -> local_content_txt_sent   \n",
    "JVnTokenizer:                 input.txt.sent -> input.txt.sent.tkn\n",
    "                      local_content_txt_sent -> local_content_txt_sent_tkn         \n",
    "JVnSegmenter:             input.txt.sent.tkn -> input.txt.sent.tkn.wseg\n",
    "                  local_content_txt_sent_tkn -> local_content_txt_sent_tkn_wseg  \n",
    "POSTagging:          input.txt.sent.tkn.wseg -> input.txt.sent.tkn.wseg.pos\n",
    "             local_content_txt_sent_tkn_wseg -> local_content_txt_sent_tkn_wseg_pos\n",
    "</pre>"
   ]
  },
  {
   "cell_type": "markdown",
   "metadata": {},
   "source": [
    "**Extract text from data**\n",
    "\n",
    "Uses BeautifulSoup library to find all tags `'r'` and strip the text from them.\n",
    "\n",
    "TODO:\n",
    "1. Stream text through memory so that larger files can be proccessed.\n",
    "2. Allow for a directory of subfiles."
   ]
  },
  {
   "cell_type": "code",
   "execution_count": null,
   "metadata": {
    "collapsed": false
   },
   "outputs": [],
   "source": [
    "def prepare_data_directories(root_dir):\n",
    "    for dirpath, dirnames, filenames in os.walk(root_dir):\n",
    "        logger.info(dirpath)\n",
    "        prepare_data_directory(dirpath)\n",
    "        \n",
    "def text_from_subtitle_xml(sub_dir):\n",
    "    for fn in os.listdir(sub_dir):\n",
    "        if fn.endswith('.xml.gz'):\n",
    "            print fn\n",
    "            with gzip.open(sub_dir + '/' + fn,'r') as fp:\n",
    "                soup = BeautifulSoup(fp,'lxml')\n",
    "            with open(sub_dir + '/' + fn + '.txt','w') as fp:\n",
    "                for s in soup.findAll('s'): \n",
    "                    fp.write(s.text.lower().strip().encode('utf-8') + '\\n')\n",
    "        \n",
    "def prepare_data_directory(sub_dir):\n",
    "    ## BeautifulSoup:                     input.xml -> input.txt  \n",
    "    ## JVnSenSegmenter:                   input.txt -> input.txt.sent  \n",
    "    ## JVnTokenizer:                 input.txt.sent -> input.txt.sent.tkn        \n",
    "    ## JVnSegmenter:             input.txt.sent.tkn -> input.txt.sent.tkn.wseg\n",
    "    ## POSTagging:          input.txt.sent.tkn.wseg -> input.txt.sent.tkn.wseg.pos\n",
    "    \n",
    "    #text_from_subtitle_xml(sub_dir)\n",
    "    \n",
    "    ### Sentence Segmentation\n",
    "    #cp = '../JVnTextPro/target/jvn-text-pro-2.0.jar:/root/.m2/repository/args4j/args4j/2.33/args4j-2.33.jar'\n",
    "    #model_dir = '../JVnTextPro/models/jvnsensegmenter/'\n",
    "    #java_class = 'jvnsensegmenter.JVnSenSegmenter'\n",
    "    #cmd = 'java -cp {} {} -modeldir {} -inputdir '.format(cp, java_class, model_dir)\n",
    "    #cmd_list = cmd.split()\n",
    "    #cmd_list.append(sub_dir)\n",
    "    #ret_val = subprocess.call(cmd_list)\n",
    "    #print ret_val,\n",
    "    \n",
    "    ## Sentence Tokenization\n",
    "    ## Note: JVnTokenizer basically separates punctuation from words. Does not bother, \n",
    "    ##       for example, numbers like 22,216.\n",
    "    cp = '../JVnTextPro/target/jvn-text-pro-2.0.jar:/root/.m2/repository/args4j/args4j/2.33/args4j-2.33.jar'\n",
    "    java_class = 'jvntokenizer.JVnTokenizer'\n",
    "    cmd = 'java -cp {} {} -inputdir '.format(cp, java_class)\n",
    "    cmd_list = cmd.split()\n",
    "    cmd_list.append(sub_dir)\n",
    "    ret_val = subprocess.call(cmd_list)\n",
    "    print ret_val,\n",
    "\n",
    "    ## Word Segmentation\n",
    "    cp = '../JVnTextPro/target/jvn-text-pro-2.0.jar:/root/.m2/repository/args4j/args4j/2.33/args4j-2.33.jar'\n",
    "    model_dir = '../JVnTextPro/models/jvnsegmenter/'\n",
    "    java_class = 'jvnsegmenter.WordSegmenting'\n",
    "    cmd = 'java -cp {} {} -modeldir {}  -inputdir '.format(cp, java_class, model_dir)\n",
    "    cmd_list = cmd.split()\n",
    "    cmd_list.append(sub_dir)\n",
    "    ret_val = subprocess.call(cmd_list)\n",
    "    print ret_val,\n",
    "    \n",
    "    ## Part of Speech Tagging\n",
    "    cp = '../JVnTextPro/target/jvn-text-pro-2.0.jar:/root/.m2/repository/args4j/args4j/2.33/args4j-2.33.jar'\n",
    "    model_dir = '../JVnTextPro/models/jvnpostag/maxent/'\n",
    "    java_class = 'jvnpostag.POSTagging'\n",
    "    cmd = 'java -cp {} {} -tagger maxent -modeldir {}  -inputdir '.format(cp, java_class, model_dir)\n",
    "    cmd_list = cmd.split()\n",
    "    cmd_list.append(sub_dir)\n",
    "    ret_val = subprocess.call(cmd_list)\n",
    "    print ret_val,"
   ]
  },
  {
   "cell_type": "code",
   "execution_count": null,
   "metadata": {
    "collapsed": false
   },
   "outputs": [],
   "source": [
    "with open('369610.xml','r') as fp:\n",
    "#with open('1218844.xml','r') as fp:\n",
    "    soup = BeautifulSoup(fp,'lxml')\n",
    "dirname_root = 'OpenSubtitles2016/xml/'\n",
    "for tag in soup.findAll('linkgrp'):\n",
    "    if '369610' in tag['fromdoc']:\n",
    "        tag_369610 = tag\n",
    "        fromdoc = tag['fromdoc']\n",
    "        todoc = tag['todoc']\n",
    "        \n",
    "print fromdoc, todoc"
   ]
  },
  {
   "cell_type": "code",
   "execution_count": null,
   "metadata": {
    "collapsed": false,
    "scrolled": false
   },
   "outputs": [],
   "source": [
    "print fromdoc, todoc\n",
    "soup = BeautifulSoup(str(tag_369610),'lxml')\n",
    "with gzip.open(dirname_root + fromdoc,'r') as fp:\n",
    "    soup_from = BeautifulSoup(fp,'lxml')\n",
    "    from_tags = soup_from.findAll('s')\n",
    "    \n",
    "with gzip.open(dirname_root + todoc,'r') as fp:\n",
    "    soup_to = BeautifulSoup(fp,'lxml')\n",
    "    to_tags = soup_to.findAll('s')\n",
    "\n",
    "aligned_data = []\n",
    "with open(dirname_root + todoc + '.txt','w') as fp:\n",
    "    for tag in soup.findAll('link'):\n",
    "        tag_indices = tag['xtargets'].split(';')\n",
    "        from_sents_ids = [int(n) for n in tag_indices[0].split()]\n",
    "        to_sents_ids = [int(n) for n in tag_indices[1].split()]\n",
    "        from_sents = [' '.join(from_tags[i-1].text.split()) for i in from_sents_ids]\n",
    "        to_sents = [' '.join(to_tags[i-1].text.split()) for i in to_sents_ids]\n",
    "        to_sents_out = ' '.join(to_sents)\n",
    "        fp.write(to_sents_out.encode('utf-8') + '\\n')\n",
    "        aligned_data.append([tag['id'], ' '.join(to_sents), ' '.join(from_sents)])\n",
    "\n",
    "aligned_sentences_df = pd.DataFrame(aligned_data,columns=['id',todoc,fromdoc])\n",
    "aligned_sentences_df"
   ]
  },
  {
   "cell_type": "code",
   "execution_count": null,
   "metadata": {
    "collapsed": false
   },
   "outputs": [],
   "source": [
    "from cjklib.dictionary import CEDICT\n",
    "d = CEDICT()\n",
    "\n",
    "for t in d.getForHeadword(u'生存'):\n",
    "    print t.HeadwordSimplified, t.Reading, t.Translation"
   ]
  },
  {
   "cell_type": "code",
   "execution_count": null,
   "metadata": {
    "collapsed": false
   },
   "outputs": [],
   "source": [
    "print t.HeadwordSimplified, t.Reading, t.Translation"
   ]
  },
  {
   "cell_type": "code",
   "execution_count": null,
   "metadata": {
    "collapsed": false
   },
   "outputs": [],
   "source": [
    "if False:\n",
    "    #prepare_data_directories('OpenSubtitles2016/raw/vi/2006/')\n",
    "    #prepare_data_directories('OpenSubtitles2016/raw/vi/2015/')\n",
    "    prepare_data_directories('OpenSubtitles2016/raw/vi/2015/369610/')"
   ]
  },
  {
   "cell_type": "markdown",
   "metadata": {},
   "source": [
    "**List of stop words**\n",
    "\n",
    "The list below came from `elasticsearch` Vietnamese plugin."
   ]
  },
  {
   "cell_type": "code",
   "execution_count": null,
   "metadata": {
    "collapsed": true
   },
   "outputs": [],
   "source": [
    "stopwords = [\"bị\", \"bởi\", \"cả\", \"các\", \"cái\", \"cần\", \"càng\", \"chỉ\", \"chiếc\", \"cho\", \"chứ\", \"chưa\", \"chuyện\",\n",
    "             \"có\", \"có_thể\", \"cứ\", \"của\", \"cùng\", \"cũng\", \"đã\", \"đang\", \"đây\", \"để\", \"đến_nỗi\", \"đều\", \"điều\",\n",
    "             \"do\", \"đó\", \"được\", \"dưới\", \"gì\", \"khi\", \"không\", \"là\", \"lại\", \"lên\", \"lúc\", \"mà\", \"mỗi\", \"một_cách\",\n",
    "             \"này\", \"nên\", \"nếu\", \"ngay\", \"nhiều\", \"như\", \"nhưng\", \"những\", \"nơi\", \"nữa\", \"phải\", \"qua\", \"ra\",\n",
    "             \"rằng\", \"rằng\", \"rất\", \"rất\", \"rồi\", \"sau\", \"sẽ\", \"so\", \"sự\", \"tại\", \"theo\", \"thì\", \"trên\", \"trước\",\n",
    "             \"từ\", \"từng\", \"và\", \"vẫn\", \"vào\", \"vậy\", \"vì\", \"việc\", \"với\", \"vừa\"]"
   ]
  },
  {
   "cell_type": "markdown",
   "metadata": {},
   "source": [
    "**Read Segmented Sentences**\n",
    "\n",
    "The java code `JVnTextPro` processes each raw input file, creating new files for each task (sentence segmentation, word segmentation, and part of speech tagging). Subsequent processing will prepare the data for three things: `mallet` for peforming LDA topic modeling, word embeddings (with `fasttext`), and generate coocurrence matrix of sentence nouns. For `mallet`, one file is generated with each text put into one line and the file identifier is located at the beginning of each line. An alternate `mallet` input file has only the \"nouns\" of each sentence. Word vectors are computed from a flat file that has a sentence (of nouns only) for each line -- the document mapping isn't used in the word vector computation. The vocabulary of each file does need to be tracked for later visualization and analysis. The list of sentence nouns is also used to generate the cooccurance matrix (any time two nouns appear together in a sentence, an edge is drawn).\n",
    "\n",
    "TODO: Make this code work as a generator -- only stream the data through memory, don't load it all at once."
   ]
  },
  {
   "cell_type": "code",
   "execution_count": null,
   "metadata": {
    "collapsed": false
   },
   "outputs": [],
   "source": [
    "import itertools, string\n",
    "from elasticsearch import Elasticsearch, helpers\n",
    "\n",
    "INDEX_NAME = '369610-zh-v6'\n",
    "es = Elasticsearch('elasticsearch', http_auth=('elastic', 'changeme'))"
   ]
  },
  {
   "cell_type": "code",
   "execution_count": null,
   "metadata": {
    "collapsed": true
   },
   "outputs": [],
   "source": [
    "mapping ='''\n",
    "{\n",
    "    \"mappings\":{\n",
    "        \"words\":{\n",
    "            \"properties\":{\n",
    "                \"word\":{\"type\":\"string\", \"index\":\"not_analyzed\"},\n",
    "                \"translation\":{\"type\":\"string\", \"index\":\"not_analyzed\"},\n",
    "                \"reading\":{\"type\":\"string\", \"index\":\"not_analyzed\"},\n",
    "                \"topic\":{\"type\":\"integer\"},\n",
    "                \"weight\":{\"type\":\"float\"},\n",
    "                \"coord\":{\"type\":\"geo_point\"},\n",
    "                \"doc_id\":{\"type\":\"string\", \"index\":\"not_analyzed\"}\n",
    "            }\n",
    "        },\n",
    "        \"document\":{\n",
    "            \"properties\":{\n",
    "                \"word\":{\"type\":\"string\", \"index\":\"not_analyzed\"},\n",
    "                \"doc_id\":{\"type\":\"string\", \"index\":\"not_analyzed\"}\n",
    "            }\n",
    "        }\n",
    "    }\n",
    "}'''"
   ]
  },
  {
   "cell_type": "code",
   "execution_count": null,
   "metadata": {
    "collapsed": false
   },
   "outputs": [],
   "source": [
    "es.indices.create(index=INDEX_NAME, body=mapping)"
   ]
  },
  {
   "cell_type": "code",
   "execution_count": null,
   "metadata": {
    "collapsed": false,
    "scrolled": true
   },
   "outputs": [],
   "source": [
    "#k = ({'_type':'foo', '_index':'test', 'letters':''.join(letters)} for letters in itertools.permutations(string.letters,2))\n",
    "#es.indices.create('test')\n",
    "#helpers.bulk(es,k)"
   ]
  },
  {
   "cell_type": "code",
   "execution_count": null,
   "metadata": {
    "collapsed": true
   },
   "outputs": [],
   "source": [
    "from gensim import corpora\n",
    "from gensim.corpora.dictionary import Dictionary"
   ]
  },
  {
   "cell_type": "code",
   "execution_count": null,
   "metadata": {
    "collapsed": false
   },
   "outputs": [],
   "source": [
    "jieba.set_dictionary('dict.txt.big')\n",
    "seg_list = jieba.cut(\"我来到北京清华大学\", cut_all=True)\n",
    "print(\"Full Mode: \" + \"/ \".join(seg_list)) "
   ]
  },
  {
   "cell_type": "code",
   "execution_count": null,
   "metadata": {
    "collapsed": false
   },
   "outputs": [],
   "source": [
    "class text_data():\n",
    "    def __init__(self, root_dir=None):\n",
    "        self.root_dir = root_dir\n",
    "        self.tmp_dir = 'tmp_dir/'\n",
    "        self.dictionary = Dictionary()\n",
    "        \n",
    "        ## TODO: Instead of keeping multiple copies of data in memory, write generators to stream off of disk.\n",
    "        \n",
    "        ## Collect metadata on documents.\n",
    "        self.data_stats = {}\n",
    "        \n",
    "        ## One (full) sentence per line, input for skipgram.\n",
    "        self.text_sentences = []\n",
    "        \n",
    "        ## Format for mallet topic modeling. Input all text (actually nouns) all on one line.\n",
    "        ## <doc_id> <tab> <text_one_line>\n",
    "        self.mallet_input = []\n",
    "        \n",
    "        ## Restrict vocabulary to \"nouns\".\n",
    "        self.sentences_nouns = []\n",
    "        \n",
    "        ## For each noun, keep a mapping of all documents that it appears in.\n",
    "        self.document_noun = {}\n",
    "        self.document_topic = {}\n",
    "        \n",
    "        ## Temporary directory to store all the intermediate files.\n",
    "        if not os.path.isdir(self.tmp_dir):\n",
    "            os.mkdir(self.tmp_dir)\n",
    "            \n",
    "        ## Walk the input directory and process files.\n",
    "        ## Side effects: statistics on input directory\n",
    "        ##               temporary directory full of files formated for topic modeling\n",
    "        for dirpath, dirnames, filenames in os.walk(self.root_dir):\n",
    "            for fn in filenames:\n",
    "                ## Assumption (based on model from external JvnTextPro) is the segmented\n",
    "                ## files have extension '.wseg'. Keep this model for each language?\n",
    "                if fn.endswith('.txt'):\n",
    "\n",
    "                    ## Generate a document identifier, real document names can be ugly.\n",
    "                    key = str(uuid.uuid4())\n",
    "\n",
    "                    ## Pull out information encoded in directory name path.\n",
    "                    ## OpenSubtitles2016/raw/vi/2006/761212/3826993.xml.gz\n",
    "                    parts = dirpath.split('/')\n",
    "                    root = parts[0]\n",
    "                    subtitle_language = parts[2]\n",
    "                    subtitle_year = parts[3]\n",
    "                    subtitle_id = parts[4]\n",
    "                    \n",
    "                    ## Initialize statistics, add to his as each file is processed.\n",
    "                    self.data_stats[key] = {'_type':'document', '_index':INDEX_NAME, \n",
    "                                            'doc_id':key, 'subtitle_language':subtitle_language,\n",
    "                                            'subtitle_year':subtitle_year, 'subtitle_id':subtitle_id, \n",
    "                                            'filename':fn}\n",
    "                    \n",
    "                    ## Load and process segmented text.\n",
    "                    local_content_file = dirpath + '/' + fn\n",
    "                    self.process_local_content_file(fn=local_content_file, key=key)\n",
    "                    \n",
    "                    ## Load and process parts-of-speech.\n",
    "                    pos_file = local_content_file # + '.pos'\n",
    "                    self.process_parts_of_speech_file(fn=pos_file, key=key)\n",
    "                    \n",
    "        self.dictionary = Dictionary(self.get_texts())\n",
    "    \n",
    "    def read_nouns_from_pos_data(self, data):\n",
    "        reader = csv.reader(data, delimiter=' ')\n",
    "        for row in reader:\n",
    "            nouns = []\n",
    "            blob = pseg.cut(' '.join(row))\n",
    "            for b in blob:\n",
    "                tag = b.flag\n",
    "                word = b.word\n",
    "                if tag in ['n', 'ng','nr','nrfg','nrt','ns','nz']:\n",
    "                    nouns.append(word) \n",
    "            yield nouns\n",
    "                \n",
    "    def process_local_content_file(self, fn=None, key=None):\n",
    "        ## Keep track of lines (actual sentences because of preprocessing) infile.\n",
    "        text_lines_file = []\n",
    "                    \n",
    "        ## Read lines of document. Actual sentences because of preprocessing step.\n",
    "        ## Need to look at using csv library -- better perfomance for streaming?\n",
    "        ## See https://districtdatalabs.silvrback.com/simple-csv-data-wrangling-with-python\n",
    "        with open(fn,'rb') as fp:\n",
    "            for line in fp:\n",
    "                line = line.strip()\n",
    "                text_lines_file.append(line)\n",
    "                \n",
    "        self.text_sentences.append(text_lines_file)\n",
    "        text_all_one_line = ' '.join(text_lines_file)\n",
    "        text_vocab = set([w for text in text_lines_file for w in text.split()])\n",
    "        \n",
    "        self.data_stats[key]['text'] = text_all_one_line.decode('utf-8')\n",
    "        self.data_stats[key]['no_sents'] = len(text_lines_file)\n",
    "        self.data_stats[key]['no_words'] = len(text_vocab)\n",
    "        \n",
    "    def process_parts_of_speech_file(self, fn=None, key=None):\n",
    "        with open(fn,'rb') as fp:\n",
    "            ## read_nouns_from_pos_data returns list of nouns in each sentence.\n",
    "            sentences_nouns = [s for s in self.read_nouns_from_pos_data(fp)]\n",
    "            with open(self.tmp_dir + key + '.txt','w') as fp:\n",
    "                for s in sentences_nouns:\n",
    "                    output_s = ' '.join(s)\n",
    "                    fp.write(output_s.encode('utf-8') + '\\n')\n",
    "                words = [w for s in sentences_nouns for w in s]\n",
    "                text_vocab_nouns = set(words)\n",
    "                for w in text_vocab_nouns:\n",
    "                    if w in self.document_noun:\n",
    "                        self.document_noun[w].append(key)\n",
    "                    else:\n",
    "                        self.document_noun[w] = [key]\n",
    "                text_vocab_nouns_oneline = ' '.join(list(text_vocab_nouns))\n",
    "                text_all_one_line = ' '.join([w for s in sentences_nouns for w in s])\n",
    "            \n",
    "            self.sentences_nouns.append(sentences_nouns)\n",
    "            self.mallet_input.append((key,text_all_one_line))\n",
    "        \n",
    "            self.data_stats[key]['word'] = list(text_vocab_nouns)\n",
    "            self.data_stats[key]['no_nouns'] = len(text_vocab_nouns)\n",
    "        \n",
    "    def load_segmented_sentences(self):\n",
    "        for key in self.data_stats:\n",
    "            yield self.data_stats[key]\n",
    "            \n",
    "    def __iter__(self):\n",
    "        for line in open('test.txt'):\n",
    "            # assume there's one document per line, tokens separated by whitespace\n",
    "            yield dictionary.doc2bow(line.lower().split())\n",
    "            \n",
    "    def get_texts(self):\n",
    "        sentences_nouns = [s for f in self.sentences_nouns for s in f]\n",
    "        for line in sentences_nouns:\n",
    "            yield line"
   ]
  },
  {
   "cell_type": "code",
   "execution_count": null,
   "metadata": {
    "collapsed": false
   },
   "outputs": [],
   "source": [
    "root_dir = 'OpenSubtitles2016/xml/zh/2015/369610/'\n",
    "sample_data = text_data(root_dir)"
   ]
  },
  {
   "cell_type": "code",
   "execution_count": null,
   "metadata": {
    "collapsed": false,
    "scrolled": false
   },
   "outputs": [],
   "source": [
    "df = pd.DataFrame([sample_data.data_stats[key] for key in sample_data.data_stats])\n",
    "df[['subtitle_language','subtitle_year','subtitle_id','filename', 'no_sents','no_words','no_nouns']].tail()"
   ]
  },
  {
   "cell_type": "code",
   "execution_count": null,
   "metadata": {
    "collapsed": false,
    "scrolled": true
   },
   "outputs": [],
   "source": [
    "print sample_data.dictionary"
   ]
  },
  {
   "cell_type": "code",
   "execution_count": null,
   "metadata": {
    "collapsed": false
   },
   "outputs": [],
   "source": [
    "with open('test.txt','w') as fp:\n",
    "    for text_id,text in sample_data.mallet_input:\n",
    "        fp.write(text_id + '\\t' + text.encode('utf-8') + '\\n')"
   ]
  },
  {
   "cell_type": "code",
   "execution_count": null,
   "metadata": {
    "collapsed": false
   },
   "outputs": [],
   "source": [
    "sentences_nouns = [s for f in sample_data.sentences_nouns for s in f]"
   ]
  },
  {
   "cell_type": "code",
   "execution_count": null,
   "metadata": {
    "collapsed": false
   },
   "outputs": [],
   "source": [
    "print len(sample_data.sentences_nouns)"
   ]
  },
  {
   "cell_type": "code",
   "execution_count": null,
   "metadata": {
    "collapsed": false,
    "scrolled": false
   },
   "outputs": [],
   "source": [
    "with open('tmp.txt','w') as fp:\n",
    "    for s in sentences_nouns:\n",
    "        s_filtered = []\n",
    "        for w in s: \n",
    "            try:\n",
    "                if cluster_label_ranked[w] > -1:\n",
    "                    s_filtered.append(w)\n",
    "            except:\n",
    "                pass\n",
    "        s_string = ' '.join(s_filtered)\n",
    "        fp.write(s_string.encode('utf-8') + '\\n')"
   ]
  },
  {
   "cell_type": "code",
   "execution_count": null,
   "metadata": {
    "collapsed": true
   },
   "outputs": [],
   "source": [
    "with open('tmp.txt','w') as fp:\n",
    "    for s in sentences_nouns:\n",
    "        s_string = ' '.join(s)\n",
    "        fp.write(s_string.encode('utf-8') + '\\n')"
   ]
  },
  {
   "cell_type": "code",
   "execution_count": null,
   "metadata": {
    "collapsed": false
   },
   "outputs": [],
   "source": [
    "from gensim.models.word2vec import LineSentence\n",
    "\n",
    "lines = LineSentence('tmp.txt')\n",
    "dictionary = corpora.Dictionary(lines)\n",
    "\n",
    "with open('lengths.txt','w') as fp:\n",
    "    for sentence_id, sentence in enumerate(sentences_nouns):\n",
    "        fp.write(str(len(sentence)) + '\\n')\n",
    "\n",
    "with open('sets.txt','w') as fp:\n",
    "    for sentence_id, sentence in enumerate(sentences_nouns):\n",
    "        #print len(sentence), sentence\n",
    "        term_ids = [w[0] for w in dictionary.doc2bow(sentence)]\n",
    "        for term_id in term_ids:\n",
    "            fp.write(str(sentence_id+1) + ' ' + str(term_id+1) + '\\n')"
   ]
  },
  {
   "cell_type": "code",
   "execution_count": null,
   "metadata": {
    "collapsed": false
   },
   "outputs": [],
   "source": [
    "with open('vocab.txt','w') as fp:\n",
    "    for n in range(0,len(dictionary)):\n",
    "        w = dictionary.get(n)\n",
    "        try:\n",
    "            fp.write(str(metric[w])+'\\n')\n",
    "        except:\n",
    "            pass"
   ]
  },
  {
   "cell_type": "markdown",
   "metadata": {},
   "source": [
    "<pre>\n",
    " ./occams_v5 -z non_zeros -m M -n N -s summary_length -D data_file -W weights_file -L lengths_file -b lower_bound\n",
    "   non-zeros is the size of the instance\n",
    "   M is the number of terms\n",
    "   N is the number of sets\n",
    "   summary_length is the length of the summary\n",
    "   data_file is the name of the file describing the sets, one pair (set_id, term) per line\n",
    "   weights_file is the name of the file containing the non-negative weights of terms, one per line\n",
    "   lengths_file is the name of the file lengths of sentences\n",
    "   lower_bound is the minimum length a sentence must have in order to be\n",
    "      eligable for summarization.\n",
    "</pre>\n",
    "\n",
    "OCCAMS needs the names of the data files, the dimensions (`MxN`) of the term-sentence matrix, and the size of the summary. \n",
    "\n",
    "The sparse term-sentence matrix is input as a list of sentence-id, term pairs (`sets.txt`, with one pair per line). Internally, the data is stored in an array such that the i-th element points to an array of integers holding the i-th sentence.\n",
    "\n",
    "The `sets_lengths` array describes the costs of sets or lenghts of sentences. Populated by the `read_lengths` routine that parses the `lengths.txt` file -- one lenght for each sentence.\n",
    "\n",
    "Parameters:\n",
    "* non-zeros\n",
    "* number of terms\n",
    "* number of sets\n",
    "* summary length\n",
    "* weights\n",
    "* lenghts\n",
    "* lower bound"
   ]
  },
  {
   "cell_type": "code",
   "execution_count": null,
   "metadata": {
    "collapsed": false
   },
   "outputs": [],
   "source": [
    "!pwd\n",
    "!wc -l tmp.txt\n",
    "!wc -l vocab.txt\n",
    "!wc -l lengths.txt\n",
    "!tail -2 sets.txt"
   ]
  },
  {
   "cell_type": "code",
   "execution_count": null,
   "metadata": {
    "collapsed": false,
    "scrolled": false
   },
   "outputs": [],
   "source": [
    "nz = 1500\n",
    "M = 599\n",
    "N = 1246\n",
    "s = 50\n",
    "D = 'sets.txt'\n",
    "W = 'vocab.txt'\n",
    "L = 'lengths.txt'\n",
    "b = 5\n",
    "cmd = '/root/notebooks/stage/mad-science/OCCAMSV5/occams_v5 -z {} -m {} -n {} -s {} -D {} -W {} -L {} -b {}'.format(nz, M, N, s, D, W, L, b)\n",
    "print cmd\n",
    "cmd_list = cmd.split()\n",
    "ret_val = subprocess.check_output(cmd_list, stderr=subprocess.STDOUT)\n",
    "for line in ret_val.split('\\n'):\n",
    "    if 'Chosen sentences' in line:\n",
    "        print line\n",
    "        sentence_ids = line.split(':')[1].split()"
   ]
  },
  {
   "cell_type": "code",
   "execution_count": null,
   "metadata": {
    "collapsed": false,
    "scrolled": false
   },
   "outputs": [],
   "source": [
    "import re\n",
    "\n",
    "summary_nouns = []\n",
    "for n in [int(n)-1 for n in sentence_ids]:\n",
    "    summary_nouns.append(sample_data.sentences_nouns[0][n])\n",
    "    #print n, ' '.join(sample_data.sentences_nouns[0][n])\n",
    "\n",
    "summary_nouns = set([w for line in summary_nouns for w in line])\n",
    "readings = []\n",
    "translations = []\n",
    "for w in summary_nouns:\n",
    "    try:\n",
    "        t = d.getForHeadword(w).next()\n",
    "        readings.append(t.Reading)\n",
    "        translations.append(t.Translation)\n",
    "    except:\n",
    "        readings.append(' ')\n",
    "        translations.append(' ')\n",
    "        \n",
    "topic_numbers = []\n",
    "for w in summary_nouns:\n",
    "    try:\n",
    "        topic_numbers.append(cluster_label_ranked[w]+1)\n",
    "    except:\n",
    "        topic_numbers.append(-1)\n",
    "        \n",
    "weights = []\n",
    "for w in summary_nouns:\n",
    "    try:\n",
    "        weights.append(metric[w])\n",
    "    except:\n",
    "        weights.append(-1)\n",
    "terms_df = pd.DataFrame(zip(summary_nouns,readings,translations,weights,topic_numbers),\n",
    "                        columns=['Noun','Reading','Translation','Weight','Topic'])\n",
    "print len(terms_df)\n",
    "grouped = terms_df.groupby('Topic')\n",
    "for name,group in grouped:\n",
    "    print name, #group.sum(),\n",
    "#    print group\n",
    "terms_df.sort_values(by='Weight',ascending=False)"
   ]
  },
  {
   "cell_type": "code",
   "execution_count": null,
   "metadata": {
    "collapsed": false
   },
   "outputs": [],
   "source": [
    "sids = [int(sid)-1 for sid in sentence_ids]\n",
    "df =pd.DataFrame([aligned_data[sid] for n,sid in enumerate(sids)],columns=['ID',todoc,fromdoc])\n",
    "#print tabulate(df, headers='keys', tablefmt='psql')\n",
    "df"
   ]
  },
  {
   "cell_type": "code",
   "execution_count": null,
   "metadata": {
    "collapsed": false
   },
   "outputs": [],
   "source": [
    "[(s[0],s[2]) for s in aligned_data if 'Drones' in s[2]]"
   ]
  },
  {
   "cell_type": "code",
   "execution_count": null,
   "metadata": {
    "collapsed": false
   },
   "outputs": [],
   "source": [
    "for sid,sent in [(s[0],s[1]) for s in aligned_data if u'zì yóu jī' in s[1]]:\n",
    "    print sid,sent"
   ]
  },
  {
   "cell_type": "code",
   "execution_count": null,
   "metadata": {
    "collapsed": false
   },
   "outputs": [],
   "source": [
    "class MyCorpus(object):\n",
    "    def __iter__(self):\n",
    "        for line in open('test.txt'):\n",
    "            # assume there's one document per line, tokens separated by whitespace\n",
    "            yield dictionary.doc2bow(line.lower().split())"
   ]
  },
  {
   "cell_type": "code",
   "execution_count": null,
   "metadata": {
    "collapsed": false
   },
   "outputs": [],
   "source": [
    "corpus_memory_friendly = MyCorpus()\n",
    "\n",
    "print(dictionary)"
   ]
  },
  {
   "cell_type": "code",
   "execution_count": null,
   "metadata": {
    "collapsed": false
   },
   "outputs": [],
   "source": [
    "dictionary = sample_data.dictionary"
   ]
  },
  {
   "cell_type": "code",
   "execution_count": null,
   "metadata": {
    "collapsed": true
   },
   "outputs": [],
   "source": [
    "corpus = [dictionary.doc2bow(text) for text in sentences_nouns]"
   ]
  },
  {
   "cell_type": "code",
   "execution_count": null,
   "metadata": {
    "collapsed": false
   },
   "outputs": [],
   "source": [
    "corpora.MmCorpus.serialize('test.mm', corpus)\n",
    "dictionary.save('test.dict')"
   ]
  },
  {
   "cell_type": "code",
   "execution_count": null,
   "metadata": {
    "collapsed": true
   },
   "outputs": [],
   "source": [
    "from gensim import corpora, models, similarities"
   ]
  },
  {
   "cell_type": "code",
   "execution_count": null,
   "metadata": {
    "collapsed": false
   },
   "outputs": [],
   "source": [
    "dictionary = corpora.Dictionary.load('test.dict')\n",
    "corpus = corpora.MmCorpus('test.mm')"
   ]
  },
  {
   "cell_type": "code",
   "execution_count": null,
   "metadata": {
    "collapsed": false
   },
   "outputs": [],
   "source": [
    "import pyLDAvis\n",
    "lda = models.ldamodel.LdaModel(corpus=corpus, id2word=dictionary, num_topics=10, passes=10)\n",
    "                                      \n",
    "lda.save('test.model')"
   ]
  },
  {
   "cell_type": "code",
   "execution_count": null,
   "metadata": {
    "collapsed": false
   },
   "outputs": [],
   "source": [
    "import pyLDAvis.gensim as gensimvis\n",
    "import pyLDAvis\n",
    "\n",
    "vis_data = gensimvis.prepare(lda, corpus, dictionary)\n",
    "pyLDAvis.display(vis_data)"
   ]
  },
  {
   "cell_type": "markdown",
   "metadata": {},
   "source": [
    "Compute word vectors\n",
    "--------------------"
   ]
  },
  {
   "cell_type": "code",
   "execution_count": null,
   "metadata": {
    "collapsed": false
   },
   "outputs": [],
   "source": [
    "recompute = True\n",
    "if recompute == True or not os.path.isfile('tmp.txt'):\n",
    "    local_content_skipgram = fasttext.skipgram('tmp.txt', model_directory + local_content_name, \n",
    "        lr=0.02, dim=local_content_vector_dimension, ws=5,\n",
    "        epoch=1, min_count=0, neg=5, loss='ns', bucket=2000000, minn=1, maxn=4,\n",
    "        thread=8, t=1e-5, lr_update_rate=100)\n",
    "else:\n",
    "    logger.info('Local vectors %s already on disk.', local_content_vectors)\n",
    "    local_content_skipgram = fasttext.load_model(local_content_model)"
   ]
  },
  {
   "cell_type": "code",
   "execution_count": null,
   "metadata": {
    "collapsed": false
   },
   "outputs": [],
   "source": [
    "print local_content_model\n",
    "print model_directory + local_content_name"
   ]
  },
  {
   "cell_type": "code",
   "execution_count": null,
   "metadata": {
    "collapsed": false
   },
   "outputs": [],
   "source": [
    "logger.info('Creating word vecs')\n",
    "\n",
    "words=[w for text in sentences_nouns for w in text]\n",
    "#nouns = [n for f in nouns_all for n in f]\n",
    "Vocab=set(words)\n",
    "\n",
    "model_comb={}\n",
    "model_comb_vocab=[]\n",
    "\n",
    "common_vocab=set(knowledge_base_vocab_lowercase).intersection(local_content_skipgram.words).intersection(Vocab)\n",
    "\n",
    "for w in common_vocab:\n",
    "    model_comb[w]=np.array(np.concatenate((knowledge_base_skipgram[w],local_content_skipgram[w])))\n",
    "    model_comb_vocab.append(w)\n",
    "        \n",
    "logger.info('Length of common_vocab = %d', len(common_vocab))"
   ]
  },
  {
   "cell_type": "code",
   "execution_count": null,
   "metadata": {
    "collapsed": false
   },
   "outputs": [],
   "source": [
    "print len(set(knowledge_base_skipgram.words))\n",
    "print len(set(local_content_skipgram.words))"
   ]
  },
  {
   "cell_type": "code",
   "execution_count": null,
   "metadata": {
    "collapsed": false
   },
   "outputs": [],
   "source": [
    "writer = csv.writer(open(combined_vectors,'w'),delimiter='\\t')\n",
    "for k in model_comb.keys():\n",
    "    writer.writerow(model_comb[k])"
   ]
  },
  {
   "cell_type": "code",
   "execution_count": null,
   "metadata": {
    "collapsed": false
   },
   "outputs": [],
   "source": [
    "combined_vectors"
   ]
  },
  {
   "cell_type": "code",
   "execution_count": null,
   "metadata": {
    "collapsed": true
   },
   "outputs": [],
   "source": [
    "###Helper Functions\n",
    "def norm(a):\n",
    "    return np.sqrt(np.sum(np.square(a)))\n",
    "\n",
    "def cosine(a,b):\n",
    "    return 1-np.dot(a,b)/np.sqrt(np.sum(a**2)*np.sum(b**2))\n",
    "\n",
    "def l1(a,b):\n",
    "    return abs(a-b).sum()\n",
    "\n",
    "def l2(a,b):\n",
    "    return np.sqrt(np.square(a-b).sum())"
   ]
  },
  {
   "cell_type": "code",
   "execution_count": null,
   "metadata": {
    "collapsed": true
   },
   "outputs": [],
   "source": [
    "### Create a list of words to be clustered based on a model with some l2_threshold and can normalize the vectors \n",
    "### and also repeat or no\n",
    "def create_word_list(model,vocab,features,Texts,repeat=True,l2_threshold=0,normalized=True,min_count=100,min_length=0):\n",
    "    data_d2v=[]\n",
    "    word_d2v=[]\n",
    "    words_text=[w for text in Texts for w in text]\n",
    "    count=Counter(words_text)\n",
    "    if repeat:\n",
    "        for text in Texts:\n",
    "            for w in text:\n",
    "                if w in vocab and count[w]>min_count:\n",
    "                    if len(w)>min_length and l2(model[w],np.zeros(features))>l2_threshold:\n",
    "                        if normalized:\n",
    "                            data_d2v.append(model[w]/l2(model[w],np.zeros(features)))\n",
    "                        else:\n",
    "                            data_d2v.append(model[w])\n",
    "                        word_d2v.append(w)\n",
    "    else:\n",
    "        A=set(words_text)\n",
    "        for w in vocab:\n",
    "            if w in A and len(w)>min_length and l2(model[w],np.zeros(features))>l2_threshold and count[w]>min_count:\n",
    "                if normalized:\n",
    "                    data_d2v.append(model[w]/l2(model[w],np.zeros(features)))\n",
    "                else:\n",
    "                    data_d2v.append(model[w])\n",
    "                word_d2v.append(w)\n",
    "\n",
    "    return data_d2v, word_d2v"
   ]
  },
  {
   "cell_type": "code",
   "execution_count": null,
   "metadata": {
    "collapsed": false
   },
   "outputs": [],
   "source": [
    "#Run Agglomerative clustering\n",
    "logger.info('Clustering for depth...')\n",
    "local_vec = True\n",
    "\n",
    "data_d2v,word_d2v=create_word_list(model_comb,model_comb_vocab,25*local_vec+200,sentences_nouns,repeat=False,normalized=True,min_count=0,l2_threshold=0)\n",
    "#spcluster=fastcluster.linkage(data_d2v,method='average',metric='cosine')"
   ]
  },
  {
   "cell_type": "code",
   "execution_count": null,
   "metadata": {
    "collapsed": false
   },
   "outputs": [],
   "source": [
    "len(model_comb_vocab)"
   ]
  },
  {
   "cell_type": "code",
   "execution_count": null,
   "metadata": {
    "collapsed": false,
    "scrolled": true
   },
   "outputs": [],
   "source": [
    "%%time\n",
    "min_cluster_size_opt = 0\n",
    "min_samples_opt = 0\n",
    "count = 0\n",
    "while True:\n",
    "    X_2D = bhtsne.tsne(np.array(data_d2v), dimensions=2)\n",
    "    print 'Attempt: ', count\n",
    "    count += 1\n",
    "    cluster_params = []\n",
    "    label_values = []\n",
    "    for min_cluster_size in range(4,30):\n",
    "        for min_samples in range(4,min_cluster_size):\n",
    "            clusterer = hdbscan.HDBSCAN(min_cluster_size=min_cluster_size, min_samples=min_samples)\n",
    "            #labels = clusterer.fit_predict(np.array(data_d2v))\n",
    "            labels = clusterer.fit_predict(X_2D)\n",
    "            label_max = clusterer.labels_.max()\n",
    "            if label_max >= 10 and label_max <= 100:\n",
    "                label_values.append(label_max)\n",
    "                cluster_params.append((min_cluster_size,min_samples))\n",
    "                print min_samples,min_cluster_size,label_max\n",
    "    label_values.reverse()\n",
    "    cluster_params.reverse()\n",
    "    if len(label_values) > 0:\n",
    "        i = np.argmax(label_values)\n",
    "        min_cluster_size_opt, min_samples_opt = cluster_params[i]\n",
    "        break"
   ]
  },
  {
   "cell_type": "code",
   "execution_count": null,
   "metadata": {
    "collapsed": false
   },
   "outputs": [],
   "source": [
    "min_cluster_size = min_cluster_size_opt\n",
    "min_samples = min_samples_opt\n",
    "clusterer = hdbscan.HDBSCAN(min_cluster_size=min_cluster_size, min_samples=min_samples) #, algorithm='generic')\n",
    "#labels = clusterer.fit_predict(np.array(data_d2v))\n",
    "labels = clusterer.fit_predict(X_2D)\n",
    "print min_cluster_size, clusterer.labels_.max()\n",
    "#labels"
   ]
  },
  {
   "cell_type": "code",
   "execution_count": null,
   "metadata": {
    "collapsed": false
   },
   "outputs": [],
   "source": [
    "def calculate_depth(spcluster,words, num_points):\n",
    "    cluster=[[] for w in xrange(2*num_points)]\n",
    "    c=Counter()\n",
    "    for i in xrange(num_points):\n",
    "        cluster[i]=[i]\n",
    "\n",
    "    for i in xrange(len(spcluster)):\n",
    "        x=int(spcluster[i,0])\n",
    "        y=int(spcluster[i,1])\n",
    "        xval=[w for w in cluster[x]]\n",
    "        yval=[w for w in cluster[y]]\n",
    "        cluster[num_points+i]=xval+yval\n",
    "        for w in cluster[num_points+i]:\n",
    "            c[words[w]]+=1\n",
    "        cluster[x][:]=[]\n",
    "        cluster[y][:]=[]    \n",
    "    return c"
   ]
  },
  {
   "cell_type": "code",
   "execution_count": null,
   "metadata": {
    "collapsed": false,
    "scrolled": true
   },
   "outputs": [],
   "source": [
    "##Calculate depth of words\n",
    "num_points=len(data_d2v)\n",
    "#depth=calculate_depth(spcluster,word_d2v,num_points)\n",
    "depth = calculate_depth(clusterer.single_linkage_tree_.to_numpy(),word_d2v,num_points)"
   ]
  },
  {
   "cell_type": "code",
   "execution_count": null,
   "metadata": {
    "collapsed": false
   },
   "outputs": [],
   "source": [
    "logger.info('Computing co-occurence graph')\n",
    "\n",
    "T=[' '.join(w) for w in sentences_nouns]"
   ]
  },
  {
   "cell_type": "code",
   "execution_count": null,
   "metadata": {
    "collapsed": false
   },
   "outputs": [],
   "source": [
    "logger.info(len(T))"
   ]
  },
  {
   "cell_type": "code",
   "execution_count": null,
   "metadata": {
    "collapsed": false
   },
   "outputs": [],
   "source": [
    "##Co-occurence matrix\n",
    "cv=CountVectorizer(token_pattern=u'(?u)\\\\b([^\\\\s]+)')\n",
    "bow_matrix = cv.fit_transform(T)\n",
    "id2word={}\n",
    "for key, value in cv.vocabulary_.items():\n",
    "    id2word[value]=key\n",
    "\n",
    "ids=[]\n",
    "for key,value in cv.vocabulary_.iteritems():\n",
    "    if key in model_comb_vocab:\n",
    "        ids.append(value)\n",
    "\n",
    "sort_ids=sorted(ids)\n",
    "bow_reduced=bow_matrix[:,sort_ids]\n",
    "normalized = TfidfTransformer().fit_transform(bow_reduced)\n",
    "similarity_graph_reduced=bow_reduced.T * bow_reduced"
   ]
  },
  {
   "cell_type": "code",
   "execution_count": null,
   "metadata": {
    "collapsed": false
   },
   "outputs": [],
   "source": [
    "##Depth-rank weighting of edges, weight of edge i,j=cosine of angle between them\n",
    "logger.info('Computing degree')\n",
    "m,n=similarity_graph_reduced.shape\n",
    "\n",
    "cx=similarity_graph_reduced.tocoo()\n",
    "keyz=[id2word[sort_ids[w]] for w in xrange(len(sort_ids))]\n",
    "data=[]\n",
    "ro=[]\n",
    "co=[]\n",
    "for i,j,v in itertools.izip(cx.row, cx.col, cx.data):\n",
    "    if v>0 and i!=j:\n",
    "        value=1\n",
    "        if value>0:\n",
    "            ro.append(i)\n",
    "            co.append(j)\n",
    "            data.append(value)\n",
    "\n",
    "SS=sp.sparse.coo_matrix((data, (ro, co)), shape=(m,n))\n",
    "SP_full=SS.tocsc()\n",
    "id_word={w:id2word[sort_ids[w]] for w in xrange(len(sort_ids))}\n",
    "word_id={value:key for key,value in id_word.items()}"
   ]
  },
  {
   "cell_type": "code",
   "execution_count": null,
   "metadata": {
    "collapsed": false
   },
   "outputs": [],
   "source": [
    "logger.info('Computing metrics')\n",
    "#compute metrics\n",
    "degsum=SP_full.sum(axis=1)\n",
    "deg={}\n",
    "for x in xrange(len(sort_ids)):\n",
    "    deg[id2word[sort_ids[x]]]=int(degsum[x])\n",
    "\n",
    "max_deg=max(deg.values())\n",
    "max_depth=max(depth.values())\n",
    "\n",
    "temp_deg_mod={w:np.log(1+deg[w])/np.log(1+max_deg) for w in deg.iterkeys()}\n",
    "alpha=np.log(0.5)/np.log(np.median(temp_deg_mod.values()))\n",
    "deg_mod={key:value**alpha for key, value in temp_deg_mod.iteritems()}\n",
    "\n",
    "temp={key:value*1./max_depth for key, value in depth.iteritems()}\n",
    "alpha=np.log(0.5)/np.log(np.median(temp.values()))\n",
    "depth_mod={key:value**alpha for key, value in temp.iteritems()}\n",
    "\n",
    "temp={key:deg_mod[key]*depth_mod[key] for key in depth_mod.iterkeys()}\n",
    "max_metric=np.max(temp.values())\n",
    "metric={key:value*1./max_metric for key,value in temp.iteritems()}"
   ]
  },
  {
   "cell_type": "code",
   "execution_count": null,
   "metadata": {
    "collapsed": false
   },
   "outputs": [],
   "source": [
    "logger.info('max_deg = %s, max_depth = %s',max_deg, max_depth)"
   ]
  },
  {
   "cell_type": "code",
   "execution_count": null,
   "metadata": {
    "collapsed": false
   },
   "outputs": [],
   "source": [
    "K = clusterer.labels_.max()+1\n",
    "cluster_label={word_d2v[x]:labels[x] for x in xrange(len(word_d2v))}\n",
    "\n",
    "cluster_label_ranked={}\n",
    "\n",
    "topic=[[] for i in xrange(-1,K)]\n",
    "clust_depth=[[] for i in xrange(K)]\n",
    "for i in xrange(K):\n",
    "    topic[i]=[word_d2v[x] for x in xrange(len(word_d2v)) if labels[x]==i]\n",
    "    #temp_score=[metric[w] for w in topic[i]]\n",
    "    temp_score = []\n",
    "    for w in topic[i]:\n",
    "        if w in metric: temp_score.append(metric[w])\n",
    "    clust_depth[i]=-np.sum(sorted(temp_score,reverse=True)[:])#int(np.sqrt(len(topic[i])))])\n",
    "index=np.argsort(clust_depth)\n",
    "index2=np.argsort(-clusterer.cluster_persistence_)\n",
    "for i in xrange(K):\n",
    "    for w in topic[index[i]]:\n",
    "        cluster_label_ranked[w]=i\n",
    "\n",
    "noise = [word_d2v[x] for x in xrange(len(word_d2v)) if labels[x]==-1]\n",
    "for w in noise:\n",
    "    cluster_label_ranked[w] = -1"
   ]
  },
  {
   "cell_type": "code",
   "execution_count": null,
   "metadata": {
    "collapsed": false
   },
   "outputs": [],
   "source": [
    "#print list(clusterer.labels_)\n",
    "print len(xrange(-1,K))\n",
    "print 'number of topics = ',len(topic)\n",
    "print 'length of index list ',len(index)\n",
    "print 'K = ',K\n",
    "print 'length of cluster_persistence_ ',len(index2)\n",
    "len(noise)"
   ]
  },
  {
   "cell_type": "code",
   "execution_count": null,
   "metadata": {
    "collapsed": false
   },
   "outputs": [],
   "source": [
    "from cjklib.dictionary import CEDICT\n",
    "d = CEDICT()\n",
    "\n",
    "for t in d.getForHeadword(u'生存'):\n",
    "    print t.HeadwordSimplified, t.Reading, t.Translation\n",
    "    \n",
    "trans = []\n",
    "for w in word_d2v: \n",
    "    try:\n",
    "        for t in d.getForHeadword(w):\n",
    "            trans.append((w,t.HeadwordSimplified, t.Reading, t.Translation))\n",
    "    except Exception as ex:\n",
    "        trans.append((w,'','',''))\n",
    "        #logger.info('%s %s',ex, w,)"
   ]
  },
  {
   "cell_type": "code",
   "execution_count": null,
   "metadata": {
    "collapsed": false
   },
   "outputs": [],
   "source": [
    "print ' '.join(trans[0])"
   ]
  },
  {
   "cell_type": "code",
   "execution_count": null,
   "metadata": {
    "collapsed": false
   },
   "outputs": [],
   "source": [
    "import networkx as nx\n",
    "import graphviz\n",
    "\n",
    "G = nx.from_scipy_sparse_matrix(SP_full)\n",
    "#pos = nx.nx_pydot.to_pydot(G)\n",
    "\n",
    "cores = nx.core_number(G)\n",
    "\n",
    "#import pydot\n",
    "\n",
    "#nx.write_gml(G, 'test.gml')\n",
    "\n",
    "#graphviz.Source(pos.to_string())"
   ]
  },
  {
   "cell_type": "code",
   "execution_count": null,
   "metadata": {
    "collapsed": false,
    "scrolled": false
   },
   "outputs": [],
   "source": [
    "coreDict = nx.core_number(G)\n",
    "kcore = dict()\n",
    "print(\"\\nk-core decomposition for each node:\")\n",
    "for n in sorted(coreDict, key=int):\n",
    "    w = word_d2v[n]\n",
    "    if coreDict[n]>=5:\n",
    "        kcore[w] = {'core':coreDict[n],'deg':G.degree()[n]}\n",
    "        for t in d.getForHeadword(w):\n",
    "            print n,\n",
    "            print \"\\tNode %s: %d-core, %s, %s, %s, %s, %s\" % (n, coreDict[n], G.degree()[n], w, \n",
    "                                                      t.HeadwordSimplified, t.Reading, t.Translation)"
   ]
  },
  {
   "cell_type": "code",
   "execution_count": null,
   "metadata": {
    "collapsed": true
   },
   "outputs": [],
   "source": [
    "giant = max(nx.connected_component_subgraphs(G), key=len)\n",
    "kcore = nx.core.find_cores(G)"
   ]
  },
  {
   "cell_type": "code",
   "execution_count": null,
   "metadata": {
    "collapsed": false
   },
   "outputs": [],
   "source": [
    "kcoreMap ={}\n",
    "for n,w in enumerate(word_d2v):\n",
    "    kcoreMap[w] = kcore[n]"
   ]
  },
  {
   "cell_type": "code",
   "execution_count": null,
   "metadata": {
    "collapsed": false
   },
   "outputs": [],
   "source": [
    "for n in sorted(coreDict, key=int):\n",
    "    if n in [0,135,162,451]:\n",
    "        w = word_d2v[n]\n",
    "        for t in d.getForHeadword(w):\n",
    "            print \"\\tNode %s: %d-core, %s, %s, %s, %s, %s\" % (n, coreDict[n], G.degree()[n], w, \n",
    "                                                      t.HeadwordSimplified, t.Reading, t.Translation)"
   ]
  },
  {
   "cell_type": "code",
   "execution_count": null,
   "metadata": {
    "collapsed": false
   },
   "outputs": [],
   "source": [
    "import pydot"
   ]
  },
  {
   "cell_type": "code",
   "execution_count": null,
   "metadata": {
    "collapsed": false
   },
   "outputs": [],
   "source": [
    "from graphviz import Graph, Digraph\n",
    "\n",
    "g = Graph('G', filename='process.gv')\n",
    "\n",
    "g.edge('run', 'intr')\n",
    "g.edge('intr', 'runbl')\n",
    "g.edge('runbl', 'run')\n",
    "g.edge('run', 'kernel')\n",
    "g.edge('kernel', 'zombie')\n",
    "g.edge('kernel', 'sleep')\n",
    "g.edge('kernel', 'runmem')\n",
    "g.edge('sleep', 'swap')\n",
    "g.edge('swap', 'runswap')\n",
    "g.edge('runswap', 'new')\n",
    "g.edge('runswap', 'runmem')\n",
    "g.edge('new', 'runmem')\n",
    "g.edge('sleep', 'runmem')\n",
    "g"
   ]
  },
  {
   "cell_type": "code",
   "execution_count": null,
   "metadata": {
    "collapsed": false
   },
   "outputs": [],
   "source": [
    "digraph ='''digraph g {\n",
    "   node [shape = record,height=.1];\n",
    "   node0[label = \"<f0> |<f1> G|<f2> \"];\n",
    "   node1[label = \"<f0> |<f1> E|<f2> \"];\n",
    "   node2[label = \"<f0> |<f1> B|<f2> \"];\n",
    "   node3[label = \"<f0> |<f1> F|<f2> \"];\n",
    "   node4[label = \"<f0> |<f1> R|<f2> \"];\n",
    "   node5[label = \"<f0> |<f1> H|<f2> \"];\n",
    "   node6[label = \"<f0> |<f1> Y|<f2> \"];\n",
    "   node7[label = \"<f0> |<f1> A|<f2> \"];\n",
    "   node8[label = \"<f0> |<f1> C|<f2> \"];\n",
    "   \"node0\":f2 -> \"node4\":f1;\n",
    "   \"node0\":f0 -> \"node1\":f1;\n",
    "   \"node1\":f0 -> \"node2\":f1;\n",
    "   \"node1\":f2 -> \"node3\":f1;\n",
    "   \"node2\":f2 -> \"node8\":f1;\n",
    "   \"node2\":f0 -> \"node7\":f1;\n",
    "   \"node4\":f2 -> \"node6\":f1;\n",
    "   \"node4\":f0 -> \"node5\":f1;\n",
    "}'''\n",
    "\n",
    "graphviz.Source(digraph)"
   ]
  },
  {
   "cell_type": "code",
   "execution_count": null,
   "metadata": {
    "collapsed": false
   },
   "outputs": [],
   "source": [
    "cluster_ex = '''digraph G {\n",
    "    compound=true;\n",
    "    subgraph cluster0 {\n",
    "      a -> b;\n",
    "      a -> c;\n",
    "      b -> d;\n",
    "      c -> d;\n",
    "    }\n",
    "    subgraph cluster1 {\n",
    "e -> g;\n",
    "e -> f; }\n",
    "    b -> f [lhead=cluster1];\n",
    "    d -> e;\n",
    "    c -> g [ltail=cluster0,\n",
    "             lhead=cluster1];\n",
    "c -> e [ltail=cluster0];\n",
    "d -> h; }\n",
    "'''\n",
    "\n",
    "graphviz.Source(cluster_ex)"
   ]
  },
  {
   "cell_type": "code",
   "execution_count": null,
   "metadata": {
    "collapsed": false
   },
   "outputs": [],
   "source": [
    "g = Digraph('G', filename='cluster.gv')\n",
    "\n",
    "c0 = Digraph('cluster_0')\n",
    "c0.body.append('style=filled')\n",
    "c0.body.append('color=lightgrey')\n",
    "c0.node_attr.update(style='filled', color='white')\n",
    "c0.edges([('a0', 'a1'), ('a1', 'a2'), ('a2', 'a3')])\n",
    "c0.body.append('label = \"process #1\"')\n",
    "\n",
    "c1 = Digraph('cluster_1')\n",
    "c1.node_attr.update(style='filled')\n",
    "c1.edges([('b0', 'b1'), ('b1', 'b2'), ('b2', 'b3')])\n",
    "c1.body.append('label = \"process #2\"')\n",
    "c1.body.append('color=blue')\n",
    "\n",
    "g.subgraph(c0)\n",
    "g.subgraph(c1)\n",
    "\n",
    "g.edge('start', 'a0')\n",
    "g.edge('start', 'b0')\n",
    "g.edge('a1', 'b3')\n",
    "g.edge('b2', 'a3')\n",
    "g.edge('a3', 'a0')\n",
    "g.edge('a3', 'end')\n",
    "g.edge('b3', 'end')\n",
    "\n",
    "g.node('start', shape='Mdiamond')\n",
    "g.node('end', shape='Msquare')\n",
    "g"
   ]
  },
  {
   "cell_type": "code",
   "execution_count": null,
   "metadata": {
    "collapsed": true
   },
   "outputs": [],
   "source": []
  },
  {
   "cell_type": "code",
   "execution_count": null,
   "metadata": {
    "collapsed": false
   },
   "outputs": [],
   "source": [
    "print np.mean(sorted(temp_score,reverse=True)[:]), index\n",
    "for w in topic[index[1]]: print w,\n",
    "print \n",
    "for w in [w[0] for w in sorted([[w,metric[w]] for w in topic[index[1]]],key=itemgetter(1),reverse=True)]:\n",
    "    print w,"
   ]
  },
  {
   "cell_type": "code",
   "execution_count": null,
   "metadata": {
    "collapsed": false
   },
   "outputs": [],
   "source": [
    "logger.info('Done...Generating output')\n",
    "lister=[]\n",
    "to_show=K\n",
    "to_show_words=200 #the maximum number of words of each type to display\n",
    "for i in xrange(to_show):\n",
    "    top=topic[index[i]]\n",
    "    sort_top=[w[0] for w in sorted([[w,metric[w]] for w in top],key=itemgetter(1),reverse=True)]\n",
    "    lister.append(['Topic %d' %(i+1)]+sort_top[:to_show_words])\n",
    "\n",
    "max_len=max([len(w) for w in lister])\n",
    "new_list=[]\n",
    "for list_el in lister:\n",
    "    new_list.append(list_el + [''] * (max_len - len(list_el)))\n",
    "Topics=list(itertools.izip_longest(*new_list))\n",
    "#X.insert(len(X),[-int(clust_depth[index[w]]*100)*1./100 for w in xrange(K)])\n",
    "sorted_words=[w[0] for w in sorted(metric.items(),key=itemgetter(1),reverse=True)][:to_show_words]"
   ]
  },
  {
   "cell_type": "code",
   "execution_count": null,
   "metadata": {
    "collapsed": false
   },
   "outputs": [],
   "source": [
    "import pandas as pd\n",
    "\n",
    "df_tmp = pd.DataFrame(new_list).T\n",
    "df_new = pd.DataFrame(df_tmp[1:len(new_list)].values,columns=[l[0] for l in new_list])\n",
    "df_new = pd.DataFrame(df_new['Topic 1'])"
   ]
  },
  {
   "cell_type": "code",
   "execution_count": null,
   "metadata": {
    "collapsed": false
   },
   "outputs": [],
   "source": [
    "score_words = sorted_words\n",
    "deep_words = [w[0] for w in depth.most_common(to_show_words)]\n",
    "filer = 'wiki_simple.txt'\n",
    "outfile_topics = data_directory + filer.split('.')[0] + '_topics.csv'\n",
    "outfile_score = data_directory + filer.split('.')[0] + '_score.csv'\n",
    "outfile_depth = data_directory + filer.split('.')[0] + '_depth.csv'\n",
    "b = open(outfile_topics, 'wb')\n",
    "a = csv.writer(b)\n",
    "a.writerows(Topics)\n",
    "b = open(outfile_score, 'wb')\n",
    "a = csv.writer(b)\n",
    "a.writerows([[w] for w in score_words])\n",
    "b = open(outfile_depth, 'wb')\n",
    "a = csv.writer(b)\n",
    "a.writerows([[w] for w in deep_words])"
   ]
  },
  {
   "cell_type": "code",
   "execution_count": null,
   "metadata": {
    "collapsed": false
   },
   "outputs": [],
   "source": [
    "for w in score_words[0:10]:\n",
    "    print w,"
   ]
  },
  {
   "cell_type": "code",
   "execution_count": null,
   "metadata": {
    "collapsed": false,
    "scrolled": true
   },
   "outputs": [],
   "source": [
    "df = pd.DataFrame([Topics[i][0:10] for i in range(0,11)])\n",
    "df.columns = df.iloc[0]\n",
    "df = df.reindex(df.index.drop(0))\n",
    "df"
   ]
  },
  {
   "cell_type": "code",
   "execution_count": null,
   "metadata": {
    "collapsed": true
   },
   "outputs": [],
   "source": [
    "trans = {}\n",
    "trans[u''] = ''\n",
    "for w in word_d2v:\n",
    "    try:\n",
    "        if w !='':\n",
    "            t = d.getForHeadword(w).next()\n",
    "            trans[w] = t.Translation\n",
    "            readings.append(t.Reading)\n",
    "            translations.append(t.Translation)\n",
    "        else:\n",
    "            trans[w] = ''\n",
    "    except:\n",
    "        trans[w] = '<bad>'\n",
    "        readings.append(' ')\n",
    "        translations.append(' ')"
   ]
  },
  {
   "cell_type": "code",
   "execution_count": null,
   "metadata": {
    "collapsed": false
   },
   "outputs": [],
   "source": [
    "print trans[u'']"
   ]
  },
  {
   "cell_type": "code",
   "execution_count": null,
   "metadata": {
    "collapsed": false,
    "scrolled": false
   },
   "outputs": [],
   "source": [
    "df.applymap(lambda x: trans[unicode(x.split('/')[0])])"
   ]
  },
  {
   "cell_type": "code",
   "execution_count": null,
   "metadata": {
    "collapsed": false,
    "scrolled": false
   },
   "outputs": [],
   "source": [
    "step = 10\n",
    "for j in range(K/step + 1):\n",
    "    first = j*step + 1;last = j*step + step\n",
    "    print 'Total number of Topics = {}. Displaying Topics {} thru {}.'.format(K, first, last)\n",
    "    print tabulate([Topics[i][first-1:last] for i in range(0,21)], headers='firstrow')"
   ]
  },
  {
   "cell_type": "code",
   "execution_count": null,
   "metadata": {
    "collapsed": false
   },
   "outputs": [],
   "source": [
    "from bokeh.plotting import figure, output_notebook, show, ColumnDataSource\n",
    "from bokeh.models import HoverTool, BoxZoomTool, WheelZoomTool, ResetTool, PanTool, BoxSelectTool\n",
    "from bokeh.models import CustomJS, ColorBar, CategoricalColorMapper, LinearColorMapper, FixedTicker, Circle\n",
    "import bokeh.palettes\n",
    "from bokeh.models.widgets import Div, DataTable, TableColumn, NumberFormatter, Slider, RadioGroup\n",
    "from bokeh.layouts import gridplot, widgetbox\n",
    "from bokeh.io import push_notebook\n",
    "from ipywidgets import interact\n",
    "from IPython.display import display, clear_output\n",
    "import pandas as pd"
   ]
  },
  {
   "cell_type": "code",
   "execution_count": null,
   "metadata": {
    "collapsed": false
   },
   "outputs": [],
   "source": [
    "output_notebook()"
   ]
  },
  {
   "cell_type": "code",
   "execution_count": null,
   "metadata": {
    "collapsed": false
   },
   "outputs": [],
   "source": [
    "d.getForHeadword(u'冒险').next().HeadwordSimplified"
   ]
  },
  {
   "cell_type": "code",
   "execution_count": null,
   "metadata": {
    "collapsed": false,
    "scrolled": false
   },
   "outputs": [],
   "source": [
    "metrics_clean = []\n",
    "for w in word_d2v:\n",
    "    if w in metric:\n",
    "        if metric[w] == 0: metric[w] = 0.01\n",
    "        metrics_clean.append(metric[w])\n",
    "        metrics_clean.append(round(metric[w],2))\n",
    "readings = []\n",
    "translations = []\n",
    "for w in word_d2v:\n",
    "    try:\n",
    "        t = d.getForHeadword(w).next()\n",
    "        readings.append(t.Reading)\n",
    "        translations.append(t.Translation)\n",
    "    except:\n",
    "        readings.append(' ')\n",
    "        translations.append(' ')\n",
    "\n",
    "topic_numbers = [cluster_label_ranked[w]+1 for w in word_d2v]\n",
    "\n",
    "label_colors = bokeh.palettes.viridis(K+1) \n",
    "colors = [label_colors[t] for t in topic_numbers]\n",
    "\n",
    "#cores = [kcore[w]['core'] for w in word_d2v]\n",
    "cores = [kcoreMap[w] for w in word_d2v]\n",
    "degrees = [deg_mod[w] for w in word_d2v]\n",
    "    \n",
    "df = pd.DataFrame(zip(word_d2v, translations, readings, X_2D[:,0], X_2D[:,1], colors,\n",
    "                      topic_numbers, [metric[w] for w in word_d2v], clusterer.probabilities_, cores, degrees),\n",
    "                  columns=['word','translation','reading','x','y','color','topic','metric','prob','core','degree'])\n",
    "df.sort_values(by='degree',ascending=False)"
   ]
  },
  {
   "cell_type": "code",
   "execution_count": null,
   "metadata": {
    "collapsed": true
   },
   "outputs": [],
   "source": [
    "def generate_words():\n",
    "    for n,w in enumerate(word_d2v):\n",
    "        body = {}\n",
    "        body['_type'] = 'words'\n",
    "        body['_index'] = INDEX_NAME\n",
    "        body['doc_id'] = sample_data.document_noun[w]\n",
    "        body['word'] = w\n",
    "        body['translation'] = translations[n]\n",
    "        body['reading'] = readings[n]\n",
    "        body['topic'] = topic_numbers[n]\n",
    "        body['coord'] = {'lat':X_2D[n,1],'lon':X_2D[n,0]}\n",
    "        body['weight'] = metrics_clean[n]\n",
    "        yield body"
   ]
  },
  {
   "cell_type": "code",
   "execution_count": null,
   "metadata": {
    "collapsed": false
   },
   "outputs": [],
   "source": [
    "print INDEX_NAME"
   ]
  },
  {
   "cell_type": "code",
   "execution_count": null,
   "metadata": {
    "collapsed": false
   },
   "outputs": [],
   "source": [
    "helpers.bulk(es,generate_words())"
   ]
  },
  {
   "cell_type": "code",
   "execution_count": null,
   "metadata": {
    "collapsed": false,
    "scrolled": true
   },
   "outputs": [],
   "source": [
    "helpers.bulk(es,sample_data.load_segmented_sentences())"
   ]
  },
  {
   "cell_type": "code",
   "execution_count": null,
   "metadata": {
    "collapsed": false,
    "scrolled": true
   },
   "outputs": [],
   "source": [
    "len(df.topic.unique())"
   ]
  },
  {
   "cell_type": "code",
   "execution_count": null,
   "metadata": {
    "collapsed": false,
    "scrolled": false
   },
   "outputs": [],
   "source": [
    "source_all  = ColumnDataSource(data=df)\n",
    "#sample_topic = df[(df.word==u'khủng_long')].topic.values[0]\n",
    "#sample_topic_no = df[(df.word==u'sự_nghiệp')].topic.values[0]\n",
    "sample_topic_no = 6\n",
    "sample_topic = df[df.topic == sample_topic_no].sort_values(by='metric',ascending=False)\n",
    "html = sample_topic.to_html()\n",
    "source_sample = ColumnDataSource(data=sample_topic)\n",
    "ps = figure(plot_width=300, plot_height=300, \n",
    "           title=\"Topic: \" + str(sample_topic_no), \n",
    "           tools='pan,wheel_zoom,box_zoom,box_select,lasso_select,reset,resize,save')\n",
    "           #active_drag=None, active_scroll=pan, active_tap=None)\n",
    "cr = ps.circle('x', 'y', source=source_sample, radius='metric', \n",
    "         fill_alpha=0.6, line_color=None, color='color')\n",
    "hover = HoverTool(\n",
    "        tooltips=[\n",
    "            #(\"index\", \"$index\"),\n",
    "            (\"topic\",\"@topic\"),\n",
    "            (\"word\", \"@word\"),\n",
    "            (\"translation\", \"@translation\"),\n",
    "            (\"metric\", \"@metric\"),\n",
    "            #x,y)\", \"(@x, @y)\"),\n",
    "            #(\"color\",\"@color\")\n",
    "        ],\n",
    "        renderers=[cr],\n",
    "        mode='mouse',\n",
    "        show_arrow=False,\n",
    "    )\n",
    "ps.add_tools(hover)\n",
    "\n",
    "def callback(source_all=source_all,source_sample=source_sample):\n",
    "    topic_no = cb_obj.value\n",
    "    d1 = source_all.data\n",
    "    d2 = source_sample.data\n",
    "    #print(d1)\n",
    "    for k in d2.keys():\n",
    "        d2[k] = []\n",
    "    source_sample.trigger('change')\n",
    "slider = Slider(start=0, end=K, value=1, step=1, title=\"Topic Number\", \n",
    "                callback=CustomJS.from_py_func(callback))\n",
    "\n",
    "   \n",
    "div = widgetbox(Div(text=html)) #,width=600, height=100))\n",
    "grid = gridplot([[ps,div,widgetbox(slider)]],width=1000)\n",
    "show(grid, notebook_handle=True);"
   ]
  },
  {
   "cell_type": "code",
   "execution_count": null,
   "metadata": {
    "collapsed": false,
    "scrolled": false
   },
   "outputs": [],
   "source": [
    "clusters_df = df[df.topic.isin(range(1,K))]\n",
    "noise_df = df[df.topic.isin([0])]\n",
    "print(len(noise_df))\n",
    "noise_df.sort_values(by='metric',ascending=False).head(100)"
   ]
  },
  {
   "cell_type": "code",
   "execution_count": null,
   "metadata": {
    "collapsed": false,
    "scrolled": false
   },
   "outputs": [],
   "source": [
    "source_all = ColumnDataSource(data=clusters_df)\n",
    "source_noise = ColumnDataSource(data=noise_df)\n",
    "\n",
    "columns = [\n",
    "        TableColumn(field=\"word\", title=\"words\"),\n",
    "        TableColumn(field=\"translation\", title=\"translations\"),\n",
    "        TableColumn(field=\"topic\", title=\"topics\"),\n",
    "        TableColumn(field=\"degree\", title=\"degree\"),\n",
    "        TableColumn(field=\"core\", title=\"core\"),\n",
    "        TableColumn(field=\"metric\", title=\"metrics\", formatter=NumberFormatter(format='0.[00]'),\n",
    "                   default_sort='descending'),\n",
    "]\n",
    "\n",
    "source_table = ColumnDataSource(data=dict(x=[],y=[],word=[],color=[],topic=[],degree=[],core=[],metric=[]))\n",
    "data_table = DataTable(source=source_all, columns=columns, width=600, height=600, row_headers=False)\n",
    "table = widgetbox(data_table)\n",
    "\n",
    "title = \"Distributed Word Embeddings: \" + str(K) + \" Topics (min cluster size \" + str(min_cluster_size) + \")\"\n",
    "p = figure(plot_width=800, plot_height=800, \n",
    "           title=title, \n",
    "           tools='pan,wheel_zoom,box_zoom,box_select,lasso_select,reset,resize,save')\n",
    "           #active_drag=None, active_scroll=pan, active_tap=None)\n",
    "#p.toolbar.active_scroll = WheelZoomTool()\n",
    "p.xgrid.grid_line_color = None\n",
    "p.ygrid.grid_line_color = None\n",
    "p.xaxis.visible = False\n",
    "p.yaxis.visible = False\n",
    "\n",
    "cr_noise = p.circle('x', 'y', source=source_noise, radius='metric',\n",
    "         fill_alpha=0.05, line_color=None, color='gray')\n",
    "selected_circle_noise = Circle(fill_alpha=0.05, line_color=None, fill_color='gray')\n",
    "nonselected_circle_noise = Circle(fill_alpha=0.05, line_color=None, fill_color='gray')\n",
    "\n",
    "cr = p.circle('x', 'y', source=source_all, radius='metric', \n",
    "         fill_alpha=0.6, line_color=None, color='color')\n",
    "\n",
    "cr_table = p.circle('x', 'y', source=source_table, radius='metric', \n",
    "         fill_alpha=0.6, line_color=None, color='color')\n",
    "\n",
    "selected_circle = Circle(fill_alpha=0.6, fill_color='color', line_color='color')\n",
    "nonselected_circle = Circle(fill_alpha=0.2, fill_color='color', line_color=None)\n",
    "cr_table.selection_glyph = selected_circle\n",
    "cr_table.nonselection_glyph = nonselected_circle\n",
    "cr.selection_glyph = selected_circle\n",
    "cr.nonselection_glyph = nonselected_circle\n",
    "cr_noise.selection_glyph = selected_circle_noise\n",
    "cr_noise.nonselection_glyph = nonselected_circle_noise\n",
    "\n",
    "\n",
    "hover = HoverTool(\n",
    "        tooltips=[\n",
    "            #(\"index\", \"$index\"),\n",
    "            (\"topic\",\"@topic\"),\n",
    "            (\"word\", \"@word\"),\n",
    "            (\"translation\", \"@translation\"),\n",
    "            (\"metric\", \"@metric\"),\n",
    "            (\"degree\",\"@degree\"),\n",
    "            (\"core\",\"@core\"),\n",
    "            #x,y)\", \"(@x, @y)\"),\n",
    "            #(\"color\",\"@color\")\n",
    "        ],\n",
    "        renderers=[cr],\n",
    "        mode='mouse',\n",
    "        show_arrow=False,\n",
    "    )\n",
    "\n",
    "p.add_tools(hover)\n",
    "#color_bar = ColorBar(color_mapper=CategoricalColorMapper(factors=clusters_df.topic), orientation='vertical',\n",
    "#                     location='top_right', scale_alpha=0.7,\n",
    "#                     ticker=FixedTicker(ticks=[2,6,10,14,18]))\n",
    "\n",
    "source_all.callback = CustomJS(args=dict(source_table=source_table), code=\"\"\"\n",
    "        var inds = cb_obj.selected['1d'].indices;\n",
    "        var d1 = cb_obj.data;\n",
    "        var d2 = source_table.data;\n",
    "        d2['x'] = [];\n",
    "        d2['y'] = [];\n",
    "        d2['word'] = [];\n",
    "        d2['color'] = [];\n",
    "        d2['topic'] = [];\n",
    "        d2['metric'] = [];\n",
    "        for (i = 0; i < inds.length; i++) {\n",
    "            d2['x'].push(d1['x'][inds[i]]);\n",
    "            d2['y'].push(d1['y'][inds[i]]);\n",
    "            d2['word'].push(d1['word'][inds[i]]);\n",
    "            d2['color'].push(d1['color'][inds[i]]);\n",
    "            d2['topic'].push(d1['topic'][inds[i]]);\n",
    "            d2['metric'].push(d1['metric'][inds[i]]);\n",
    "        }\n",
    "        source_table.trigger('change');\n",
    "    \"\"\")\n",
    "\n",
    "def callback(source_table=source_table, source_all=source_all):\n",
    "    topic = cb_obj.value\n",
    "    d1 = source_all.data\n",
    "    d2 = source_table.data\n",
    "    d2['topic'] = []\n",
    "    d2['word'] = []\n",
    "    d2['metric'] = []\n",
    "    d2['x'] = []\n",
    "    d2['y'] = []\n",
    "    \n",
    "    data = zip(d1['topic'], d1['word'], d1['translation'], d1['metric'], d1['x'], d1['y'])\n",
    "    data_topic = [d for d in data if d[0] == topic]\n",
    "    d2['topic'] = [d[0] for d in data_topic]\n",
    "    d2['word'] = [d[1] for d in data_topic]\n",
    "    d2['translation'] = [d[2] for d in data_topic]\n",
    "    d2['metric'] = [d[3] for d in data_topic]\n",
    "    d2['x'] = [d[4] for d in data_topic]\n",
    "    d2['y'] = [d[5] for d in data_topic]\n",
    "    #print(d2)\n",
    "    source_table.trigger('change')\n",
    "\n",
    "#slider = Slider(start=0, end=K, value=1, step=1, title=\"Topic Number\", \n",
    "#                callback=CustomJS.from_py_func(callback))\n",
    "\n",
    "first=1;last=K\n",
    "html = tabulate([Topics[i][first-1:last] for i in range(0,11)], tablefmt=u'html',headers='firstrow')\n",
    "div = widgetbox(Div(text=html,width=1000))\n",
    "#grid = gridplot([p, widgetbox(slider), table], ncols=2, plot_width=300, plot_height=300)\n",
    "grid = gridplot([[p,table]])\n",
    "#grid = gridplot([[p,table],[div]])\n",
    "show(grid, notebook_handle=True);"
   ]
  },
  {
   "cell_type": "code",
   "execution_count": null,
   "metadata": {
    "collapsed": false,
    "scrolled": true
   },
   "outputs": [],
   "source": [
    "from bokeh.embed import components\n",
    "from bokeh.resources import CDN\n",
    "# Generate the script and HTML for the plot\n",
    "script, div = components(grid)\n",
    "\n",
    "# Return the webpage\n",
    "html = \"\"\"\n",
    "<!doctype html>\n",
    "<head>\n",
    " <title></title>\n",
    " {bokeh_css}\n",
    "</head>\n",
    "<body>\n",
    " {div}\n",
    " {bokeh_js}\n",
    " {script}\n",
    "</body>\n",
    " \"\"\".format(script=script, div=div, bokeh_css=CDN.render_css(),\n",
    " bokeh_js=CDN.render_js())\n",
    "\n",
    "with open('templates/sample_output.html','w') as fp:\n",
    "    fp.write(html)\n",
    "\n",
    "from IPython.core.display import HTML\n",
    "#HTML(html)"
   ]
  },
  {
   "cell_type": "code",
   "execution_count": null,
   "metadata": {
    "collapsed": true
   },
   "outputs": [],
   "source": []
  },
  {
   "cell_type": "code",
   "execution_count": null,
   "metadata": {
    "collapsed": true
   },
   "outputs": [],
   "source": []
  }
 ],
 "metadata": {
  "anaconda-cloud": {},
  "kernelspec": {
   "display_name": "Python 2",
   "language": "python",
   "name": "python2"
  },
  "language_info": {
   "codemirror_mode": {
    "name": "ipython",
    "version": 2
   },
   "file_extension": ".py",
   "mimetype": "text/x-python",
   "name": "python",
   "nbconvert_exporter": "python",
   "pygments_lexer": "ipython2",
   "version": "2.7.13"
  },
  "nbpresent": {
   "slides": {
    "008b22dc-625e-4e95-adf3-a40fb79b36a0": {
     "id": "008b22dc-625e-4e95-adf3-a40fb79b36a0",
     "prev": "791d743e-08f0-46a0-a639-ab8ac8629f6c",
     "regions": {
      "c247e63d-3575-4972-87f0-cce38cb742a5": {
       "attrs": {
        "height": 0.8,
        "width": 0.8,
        "x": 0.1,
        "y": 0.1
       },
       "content": {
        "cell": "4fa1f7fa-d343-4357-a11f-cbe4240673a3",
        "part": "whole"
       },
       "id": "c247e63d-3575-4972-87f0-cce38cb742a5"
      }
     }
    },
    "01c4f385-0d09-4d67-8843-e33497d08ca9": {
     "id": "01c4f385-0d09-4d67-8843-e33497d08ca9",
     "prev": "a16b32f7-5c7d-4d07-a0e9-9720c49aedb3",
     "regions": {
      "6c31e10e-f036-4b4f-8901-8e208a912471": {
       "attrs": {
        "height": 0.8,
        "width": 0.8,
        "x": 0.1,
        "y": 0.1
       },
       "content": {
        "cell": "690b5900-7ae0-4ad4-8e93-85f5cbae8aa8",
        "part": "whole"
       },
       "id": "6c31e10e-f036-4b4f-8901-8e208a912471"
      }
     }
    },
    "025ff468-6cb7-418a-80dd-228bc43ae28a": {
     "id": "025ff468-6cb7-418a-80dd-228bc43ae28a",
     "prev": "b5a051a8-a2be-4649-a0db-6c11fa8c6cdb",
     "regions": {
      "7913caee-23a3-41b2-a8ce-6d2d94c7dc80": {
       "attrs": {
        "height": 0.8,
        "width": 0.8,
        "x": 0.1,
        "y": 0.1
       },
       "content": {
        "cell": "30ca6993-dbd0-4a92-b50e-6bb5d2f92f7c",
        "part": "whole"
       },
       "id": "7913caee-23a3-41b2-a8ce-6d2d94c7dc80"
      }
     }
    },
    "029e7aad-1237-476c-99a5-7408c577df3e": {
     "id": "029e7aad-1237-476c-99a5-7408c577df3e",
     "prev": "5a4eddd1-f1a7-4329-8122-0c5cee2c8d2c",
     "regions": {
      "664b5e95-900b-4772-8be7-044afcdac209": {
       "attrs": {
        "height": 0.8,
        "width": 0.8,
        "x": 0.1,
        "y": 0.1
       },
       "content": {
        "cell": "d2b51da0-e6ee-4f9a-a677-950056a232aa",
        "part": "whole"
       },
       "id": "664b5e95-900b-4772-8be7-044afcdac209"
      }
     }
    },
    "0cc8ca45-d61b-4424-9ba0-1197507c4b81": {
     "id": "0cc8ca45-d61b-4424-9ba0-1197507c4b81",
     "prev": "792ca548-83d8-400e-b816-e658e547829c",
     "regions": {
      "9ac3fb0f-ef92-4617-8159-61b50b53ac37": {
       "attrs": {
        "height": 0.8,
        "width": 0.8,
        "x": 0.1,
        "y": 0.1
       },
       "content": {
        "cell": "ba1d359a-82c6-4383-a21f-3e500f0edc0b",
        "part": "whole"
       },
       "id": "9ac3fb0f-ef92-4617-8159-61b50b53ac37"
      }
     }
    },
    "0eb51ca6-8513-48fa-838a-51444060bc00": {
     "id": "0eb51ca6-8513-48fa-838a-51444060bc00",
     "prev": "4b8dd603-5b70-46cf-9142-29650eead863",
     "regions": {
      "9645d8a0-e0cc-482d-8f75-4d1e5279aea4": {
       "attrs": {
        "height": 0.8,
        "width": 0.8,
        "x": 0.1,
        "y": 0.1
       },
       "content": {
        "cell": "0805d6e6-25cf-44bf-b5c6-b722c3fb9f7b",
        "part": "whole"
       },
       "id": "9645d8a0-e0cc-482d-8f75-4d1e5279aea4"
      }
     }
    },
    "0efed9fe-9cd1-442e-a7fb-40a0db6d6ec1": {
     "id": "0efed9fe-9cd1-442e-a7fb-40a0db6d6ec1",
     "prev": "b18182f1-9aa6-4325-8c91-eb30f2d90271",
     "regions": {
      "161259b0-b7b8-4cd3-b985-091fa65b24e0": {
       "attrs": {
        "height": 0.8,
        "width": 0.8,
        "x": 0.1,
        "y": 0.1
       },
       "content": {
        "cell": "cb3210b0-17ab-4ff7-a5b7-30c135ad5af2",
        "part": "whole"
       },
       "id": "161259b0-b7b8-4cd3-b985-091fa65b24e0"
      }
     }
    },
    "119ff1c6-058e-4c23-ac66-d6cc3e87e971": {
     "id": "119ff1c6-058e-4c23-ac66-d6cc3e87e971",
     "prev": "71215503-99f3-4019-96ce-92c5bcf0f2de",
     "regions": {
      "ee95e1db-8b4c-47ca-b858-6ef04d7869bc": {
       "attrs": {
        "height": 0.8,
        "width": 0.8,
        "x": 0.1,
        "y": 0.1
       },
       "content": {
        "cell": "132956b2-6d79-4e49-a861-e606507589c4",
        "part": "whole"
       },
       "id": "ee95e1db-8b4c-47ca-b858-6ef04d7869bc"
      }
     }
    },
    "123ad174-878d-4179-a94d-2165ab613bb2": {
     "id": "123ad174-878d-4179-a94d-2165ab613bb2",
     "prev": "523efaf5-591a-4d24-ad64-0a9bb03cd5b4",
     "regions": {
      "98d0884a-d9ec-4912-b388-5c4dd1b21752": {
       "attrs": {
        "height": 0.8,
        "width": 0.8,
        "x": 0.1,
        "y": 0.1
       },
       "content": {
        "cell": "4e132857-b90f-4bfe-8031-581d78b09df7",
        "part": "whole"
       },
       "id": "98d0884a-d9ec-4912-b388-5c4dd1b21752"
      }
     }
    },
    "13a8f403-c728-456e-bdc1-9b97fc6358cc": {
     "id": "13a8f403-c728-456e-bdc1-9b97fc6358cc",
     "prev": "547cd7d9-bd84-4ff2-b95e-da5afd3fa908",
     "regions": {
      "2c9cea29-9ade-4a72-8378-b0e9c14d124a": {
       "attrs": {
        "height": 0.8,
        "width": 0.8,
        "x": 0.1,
        "y": 0.1
       },
       "content": {
        "cell": "646942da-84bc-47bd-92da-155556760407",
        "part": "whole"
       },
       "id": "2c9cea29-9ade-4a72-8378-b0e9c14d124a"
      }
     }
    },
    "152eb01b-2254-4996-8c4d-ca9c218719ac": {
     "id": "152eb01b-2254-4996-8c4d-ca9c218719ac",
     "prev": "c69de45e-23d3-44dd-98cb-0971aa88260c",
     "regions": {
      "b6f5d5aa-1fc8-4a59-8af2-d8ff82b8127b": {
       "attrs": {
        "height": 0.8,
        "width": 0.8,
        "x": 0.1,
        "y": 0.1
       },
       "content": {
        "cell": "707c5e69-86a4-4a0b-9a08-bc07c36a49f5",
        "part": "whole"
       },
       "id": "b6f5d5aa-1fc8-4a59-8af2-d8ff82b8127b"
      }
     }
    },
    "17e1fe3e-6084-48a2-bba8-a8c83686e142": {
     "id": "17e1fe3e-6084-48a2-bba8-a8c83686e142",
     "prev": "af7bea67-0ddf-454b-a13f-3be254b3d1f6",
     "regions": {
      "b50ae753-09e0-46c7-9943-3db9500f7113": {
       "attrs": {
        "height": 0.8,
        "width": 0.8,
        "x": 0.1,
        "y": 0.1
       },
       "content": {
        "cell": "a16d6da3-bdd8-492b-b2e9-a369d59a0ec7",
        "part": "whole"
       },
       "id": "b50ae753-09e0-46c7-9943-3db9500f7113"
      }
     }
    },
    "1aef7266-187b-42d4-9e7f-a8d5dddafaa5": {
     "id": "1aef7266-187b-42d4-9e7f-a8d5dddafaa5",
     "prev": "b41fb9d0-b6c1-4630-8c15-c389519a565a",
     "regions": {
      "bb7a72e4-dce5-4f6c-93fd-bab9bc9848b3": {
       "attrs": {
        "height": 0.8,
        "width": 0.8,
        "x": 0.1,
        "y": 0.1
       },
       "content": {
        "cell": "edaf43ea-4d17-45e6-9a30-56569d861238",
        "part": "whole"
       },
       "id": "bb7a72e4-dce5-4f6c-93fd-bab9bc9848b3"
      }
     }
    },
    "1c751ebb-1612-4d49-b0eb-6160abfb2633": {
     "id": "1c751ebb-1612-4d49-b0eb-6160abfb2633",
     "prev": "861c7e2c-4714-488b-b231-85c107d46765",
     "regions": {
      "14b12edf-3a08-44d7-b6d1-8c1bdb5bcae9": {
       "attrs": {
        "height": 0.8,
        "width": 0.8,
        "x": 0.1,
        "y": 0.1
       },
       "content": {
        "cell": "e016e624-163f-4225-818c-7e236d717a0e",
        "part": "whole"
       },
       "id": "14b12edf-3a08-44d7-b6d1-8c1bdb5bcae9"
      }
     }
    },
    "1c86f289-59da-4b87-bd6b-750856c0e720": {
     "id": "1c86f289-59da-4b87-bd6b-750856c0e720",
     "prev": "025ff468-6cb7-418a-80dd-228bc43ae28a",
     "regions": {
      "6bdf32e9-1dac-4fdc-a843-d74568f8571c": {
       "attrs": {
        "height": 0.8,
        "width": 0.8,
        "x": 0.1,
        "y": 0.1
       },
       "content": {
        "cell": "9bfd6da2-455a-427a-a823-c094cb3aa403",
        "part": "whole"
       },
       "id": "6bdf32e9-1dac-4fdc-a843-d74568f8571c"
      }
     }
    },
    "1d4845ad-09ad-4c88-b4d6-336bb647231e": {
     "id": "1d4845ad-09ad-4c88-b4d6-336bb647231e",
     "prev": "f5326b8d-d217-4277-9223-c3ec18b58e15",
     "regions": {
      "f4af7798-7883-4f32-8dae-8e1c8b6f9fb0": {
       "attrs": {
        "height": 0.8,
        "width": 0.8,
        "x": 0.1,
        "y": 0.1
       },
       "content": {
        "cell": "ea835d53-1272-4e63-99ab-7b20b1d4ee78",
        "part": "whole"
       },
       "id": "f4af7798-7883-4f32-8dae-8e1c8b6f9fb0"
      }
     }
    },
    "1ec6d29b-88c1-445e-adba-b544c96c4c07": {
     "id": "1ec6d29b-88c1-445e-adba-b544c96c4c07",
     "prev": "d2a1f9d0-13e4-4aa5-9bd2-b3e9e3a515dd",
     "regions": {
      "1d95f289-fe90-4f5f-bd34-d75c3e3e4a2f": {
       "attrs": {
        "height": 0.8,
        "width": 0.8,
        "x": 0.1,
        "y": 0.1
       },
       "content": {
        "cell": "b57c712b-5b3b-4044-a835-9aba05a21501",
        "part": "whole"
       },
       "id": "1d95f289-fe90-4f5f-bd34-d75c3e3e4a2f"
      }
     }
    },
    "25cc3312-4e29-4530-8025-57569898eaef": {
     "id": "25cc3312-4e29-4530-8025-57569898eaef",
     "prev": "2e5c1d8b-2ae3-4398-a45f-c3752e8c6e75",
     "regions": {
      "eb16da06-47ec-4b5e-afc1-1e7de92fbf4f": {
       "attrs": {
        "height": 0.8,
        "width": 0.8,
        "x": 0.1,
        "y": 0.1
       },
       "content": {
        "cell": "a94093b5-7cad-46c0-babe-3fcc9c5b87d9",
        "part": "whole"
       },
       "id": "eb16da06-47ec-4b5e-afc1-1e7de92fbf4f"
      }
     }
    },
    "27bc4589-cfcd-46f8-bd12-18d23fbbe17e": {
     "id": "27bc4589-cfcd-46f8-bd12-18d23fbbe17e",
     "prev": "0cc8ca45-d61b-4424-9ba0-1197507c4b81",
     "regions": {
      "6c28854c-e6c2-4536-94f4-ebec5b6c651e": {
       "attrs": {
        "height": 0.8,
        "width": 0.8,
        "x": 0.1,
        "y": 0.1
       },
       "content": {
        "cell": "f2b718bb-877e-4459-9516-bf87881d48c5",
        "part": "whole"
       },
       "id": "6c28854c-e6c2-4536-94f4-ebec5b6c651e"
      }
     }
    },
    "28349551-70bb-4e3b-9f36-c2c1ac296d90": {
     "id": "28349551-70bb-4e3b-9f36-c2c1ac296d90",
     "prev": "1c86f289-59da-4b87-bd6b-750856c0e720",
     "regions": {
      "aa882d55-0667-4de1-bd53-be8708e333de": {
       "attrs": {
        "height": 0.8,
        "width": 0.8,
        "x": 0.1,
        "y": 0.1
       },
       "content": {
        "cell": "7d39e230-5ea1-48f0-a0f6-9fc26c3e9a64",
        "part": "whole"
       },
       "id": "aa882d55-0667-4de1-bd53-be8708e333de"
      }
     }
    },
    "2af492c2-eff0-4ad8-af58-f73ca8614699": {
     "id": "2af492c2-eff0-4ad8-af58-f73ca8614699",
     "prev": "30241e34-638c-4082-ae3f-eb4e77b84895",
     "regions": {
      "337254df-9d85-4dc7-b9ef-ac71516d54c0": {
       "attrs": {
        "height": 0.8,
        "width": 0.8,
        "x": 0.1,
        "y": 0.1
       },
       "content": {
        "cell": "b403e499-2dd7-45c1-9b79-0f9fc89c645b",
        "part": "whole"
       },
       "id": "337254df-9d85-4dc7-b9ef-ac71516d54c0"
      }
     }
    },
    "2ba129ec-97cd-4ef1-bee7-fb1d76a8a8d9": {
     "id": "2ba129ec-97cd-4ef1-bee7-fb1d76a8a8d9",
     "prev": "96131c7f-2255-424f-8a66-feacf6282072",
     "regions": {
      "f6891b3d-ef4b-47c2-bcd0-fd249a0e4561": {
       "attrs": {
        "height": 0.8,
        "width": 0.8,
        "x": 0.1,
        "y": 0.1
       },
       "content": {
        "cell": "09fb53ed-6110-4b58-8818-edf9f7b904ec",
        "part": "whole"
       },
       "id": "f6891b3d-ef4b-47c2-bcd0-fd249a0e4561"
      }
     }
    },
    "2bb74934-c41c-4944-bc7e-3545ca2289c0": {
     "id": "2bb74934-c41c-4944-bc7e-3545ca2289c0",
     "prev": "28349551-70bb-4e3b-9f36-c2c1ac296d90",
     "regions": {
      "52043f56-b2ec-484f-8e86-fac810e00b8c": {
       "attrs": {
        "height": 0.8,
        "width": 0.8,
        "x": 0.1,
        "y": 0.1
       },
       "content": {
        "cell": "49157098-4b2e-4849-ac9b-a5aeb03c9de9",
        "part": "whole"
       },
       "id": "52043f56-b2ec-484f-8e86-fac810e00b8c"
      }
     }
    },
    "2d304171-4443-4909-adf9-8e8e2c8a4020": {
     "id": "2d304171-4443-4909-adf9-8e8e2c8a4020",
     "prev": "be6071b9-ef90-4b5c-a0f7-5da78b503131",
     "regions": {
      "bcd260f9-3099-4a86-adf6-7006ded7515d": {
       "attrs": {
        "height": 0.8,
        "width": 0.8,
        "x": 0.1,
        "y": 0.1
       },
       "content": {
        "cell": "206bb318-69cc-41c1-bbef-89c2d9da156d",
        "part": "whole"
       },
       "id": "bcd260f9-3099-4a86-adf6-7006ded7515d"
      }
     }
    },
    "2d5fc9f2-d475-4644-b9c7-8b0beab23a80": {
     "id": "2d5fc9f2-d475-4644-b9c7-8b0beab23a80",
     "prev": "d7cd2435-c21d-458b-8654-c46c911ee593",
     "regions": {
      "569b4e6e-d482-44cb-a5bb-f82576120c26": {
       "attrs": {
        "height": 0.8,
        "width": 0.8,
        "x": 0.1,
        "y": 0.1
       },
       "content": {
        "cell": "52a23254-6a8f-4334-b307-3a9bb47fa44b",
        "part": "whole"
       },
       "id": "569b4e6e-d482-44cb-a5bb-f82576120c26"
      }
     }
    },
    "2e5c1d8b-2ae3-4398-a45f-c3752e8c6e75": {
     "id": "2e5c1d8b-2ae3-4398-a45f-c3752e8c6e75",
     "prev": "a905589e-7714-457b-9361-5015c6f68ea8",
     "regions": {
      "2141acb9-3fdd-4457-a1a0-f393c8f44dda": {
       "attrs": {
        "height": 0.8,
        "width": 0.8,
        "x": 0.1,
        "y": 0.1
       },
       "content": {
        "cell": "e33a5c22-0383-4d2e-9c8b-b49eeb88f164",
        "part": "whole"
       },
       "id": "2141acb9-3fdd-4457-a1a0-f393c8f44dda"
      }
     }
    },
    "30241e34-638c-4082-ae3f-eb4e77b84895": {
     "id": "30241e34-638c-4082-ae3f-eb4e77b84895",
     "prev": "be31001f-0c32-42d4-a52d-4e015c39af51",
     "regions": {
      "4baf403e-b81d-4243-bf10-bfc139dd9c25": {
       "attrs": {
        "height": 0.8,
        "width": 0.8,
        "x": 0.1,
        "y": 0.1
       },
       "content": {
        "cell": "e9242aa0-2fe4-4f42-89a6-9f76464385f0",
        "part": "whole"
       },
       "id": "4baf403e-b81d-4243-bf10-bfc139dd9c25"
      }
     }
    },
    "3383c4fe-58d2-4ed2-8b97-33bf3ff8051c": {
     "id": "3383c4fe-58d2-4ed2-8b97-33bf3ff8051c",
     "prev": "9ab63780-6166-4824-ab13-6710d406682f",
     "regions": {
      "f3c857ac-9301-4637-96fc-31a7c7841700": {
       "attrs": {
        "height": 0.8,
        "width": 0.8,
        "x": 0.1,
        "y": 0.1
       },
       "content": {
        "cell": "4077e34e-1fa3-469d-92f6-0ed157855e49",
        "part": "whole"
       },
       "id": "f3c857ac-9301-4637-96fc-31a7c7841700"
      }
     }
    },
    "3d6da274-73fd-4535-b511-b2c1841ad51c": {
     "id": "3d6da274-73fd-4535-b511-b2c1841ad51c",
     "prev": "8124069e-067b-45b6-842d-33f0ac3c6db5",
     "regions": {
      "6697727c-3978-4970-901e-41357ad57a10": {
       "attrs": {
        "height": 0.8,
        "width": 0.8,
        "x": 0.1,
        "y": 0.1
       },
       "content": {
        "cell": "f85c4b7e-4336-4d7b-b91e-541fb79a60c5",
        "part": "whole"
       },
       "id": "6697727c-3978-4970-901e-41357ad57a10"
      }
     }
    },
    "3e185306-7fa2-4ad6-8483-3111e29d17d2": {
     "id": "3e185306-7fa2-4ad6-8483-3111e29d17d2",
     "prev": "e078452b-bd57-4729-9ee1-29bd9661f861",
     "regions": {
      "59c40c28-4e52-45cf-b040-4613abbb83f8": {
       "attrs": {
        "height": 0.8,
        "width": 0.8,
        "x": 0.1,
        "y": 0.1
       },
       "content": {
        "cell": "2675357b-616c-42ac-bbeb-82f354d1ee7e",
        "part": "whole"
       },
       "id": "59c40c28-4e52-45cf-b040-4613abbb83f8"
      }
     }
    },
    "49cbde32-9948-456d-9d2c-e61438570132": {
     "id": "49cbde32-9948-456d-9d2c-e61438570132",
     "prev": "e28ba685-6fe3-48a2-a50d-c1b76676efda",
     "regions": {
      "238438be-32be-4c00-8afc-781152f72623": {
       "attrs": {
        "height": 0.8,
        "width": 0.8,
        "x": 0.1,
        "y": 0.1
       },
       "content": {
        "cell": "748342ce-7480-483a-915f-b57a02b5c6e3",
        "part": "whole"
       },
       "id": "238438be-32be-4c00-8afc-781152f72623"
      }
     }
    },
    "4a00cdd7-1822-415d-8c82-2bbb79662ad9": {
     "id": "4a00cdd7-1822-415d-8c82-2bbb79662ad9",
     "prev": "6664f479-3e6e-46ec-9f09-422c535751cb",
     "regions": {
      "1d0f4a4c-ce05-43ba-99bb-e2e8b6102005": {
       "attrs": {
        "height": 0.8,
        "width": 0.8,
        "x": 0.1,
        "y": 0.1
       },
       "content": {
        "cell": "4195b907-86e6-4e2d-978f-d5cb7daa34c4",
        "part": "whole"
       },
       "id": "1d0f4a4c-ce05-43ba-99bb-e2e8b6102005"
      }
     }
    },
    "4a26e9e0-63e0-46aa-b1fd-caeaa1bda9a4": {
     "id": "4a26e9e0-63e0-46aa-b1fd-caeaa1bda9a4",
     "prev": "1aef7266-187b-42d4-9e7f-a8d5dddafaa5",
     "regions": {
      "5bcc41e4-7951-442a-bffa-32efb1526653": {
       "attrs": {
        "height": 0.8,
        "width": 0.8,
        "x": 0.1,
        "y": 0.1
       },
       "content": {
        "cell": "bbf363d4-10e3-4f42-881b-603a9a3b68f9",
        "part": "whole"
       },
       "id": "5bcc41e4-7951-442a-bffa-32efb1526653"
      }
     }
    },
    "4b8dd603-5b70-46cf-9142-29650eead863": {
     "id": "4b8dd603-5b70-46cf-9142-29650eead863",
     "prev": "63a8666e-87ad-4d0e-bd82-5fc77546a6cb",
     "regions": {
      "7a961541-ea69-4c53-9979-e7c1e0c18a3c": {
       "attrs": {
        "height": 0.8,
        "width": 0.8,
        "x": 0.1,
        "y": 0.1
       },
       "content": {
        "cell": "85da47c4-f277-43b5-aee5-7f06b9aec7a8",
        "part": "whole"
       },
       "id": "7a961541-ea69-4c53-9979-e7c1e0c18a3c"
      }
     }
    },
    "4c86d42c-d398-4225-a5d0-f00791414fb5": {
     "id": "4c86d42c-d398-4225-a5d0-f00791414fb5",
     "prev": "27bc4589-cfcd-46f8-bd12-18d23fbbe17e",
     "regions": {
      "e45a587b-1774-443f-9718-757dc7db9336": {
       "attrs": {
        "height": 0.8,
        "width": 0.8,
        "x": 0.1,
        "y": 0.1
       },
       "content": {
        "cell": "72415973-ab7c-4e1e-b96c-76e4759f6e75",
        "part": "whole"
       },
       "id": "e45a587b-1774-443f-9718-757dc7db9336"
      }
     }
    },
    "50948672-ee76-4cf7-9af7-964022c3ec16": {
     "id": "50948672-ee76-4cf7-9af7-964022c3ec16",
     "prev": "25cc3312-4e29-4530-8025-57569898eaef",
     "regions": {
      "b52de7bf-4bf6-43b7-95d3-f2ec7d4b52fb": {
       "attrs": {
        "height": 0.8,
        "width": 0.8,
        "x": 0.1,
        "y": 0.1
       },
       "content": {
        "cell": "f6f6e1b8-a9e8-4880-ae2d-ce623089f9d8",
        "part": "whole"
       },
       "id": "b52de7bf-4bf6-43b7-95d3-f2ec7d4b52fb"
      }
     }
    },
    "523efaf5-591a-4d24-ad64-0a9bb03cd5b4": {
     "id": "523efaf5-591a-4d24-ad64-0a9bb03cd5b4",
     "prev": "49cbde32-9948-456d-9d2c-e61438570132",
     "regions": {
      "9c5bbead-22ed-4648-bc74-4e1595efbdd4": {
       "attrs": {
        "height": 0.8,
        "width": 0.8,
        "x": 0.1,
        "y": 0.1
       },
       "content": {
        "cell": "ab253c36-cf02-490e-b262-9b4fcb3734cc",
        "part": "whole"
       },
       "id": "9c5bbead-22ed-4648-bc74-4e1595efbdd4"
      }
     }
    },
    "540536b4-680c-4f6a-855e-b469fcc98e19": {
     "id": "540536b4-680c-4f6a-855e-b469fcc98e19",
     "prev": "2bb74934-c41c-4944-bc7e-3545ca2289c0",
     "regions": {
      "42956f33-ba09-46db-a53e-d1afb668d98b": {
       "attrs": {
        "height": 0.8,
        "width": 0.8,
        "x": 0.1,
        "y": 0.1
       },
       "content": {
        "cell": "97763564-3dfb-4446-969e-e694e0c12036",
        "part": "whole"
       },
       "id": "42956f33-ba09-46db-a53e-d1afb668d98b"
      }
     }
    },
    "547cd7d9-bd84-4ff2-b95e-da5afd3fa908": {
     "id": "547cd7d9-bd84-4ff2-b95e-da5afd3fa908",
     "prev": "967ba93d-fa5b-4ce9-a0df-317f5a079e9e",
     "regions": {
      "b5985cc4-a903-48db-acad-ae9a70ca19bf": {
       "attrs": {
        "height": 0.8,
        "width": 0.8,
        "x": 0.1,
        "y": 0.1
       },
       "content": {
        "cell": "41ff36ce-0204-4ef1-8617-cfc166e96ed0",
        "part": "whole"
       },
       "id": "b5985cc4-a903-48db-acad-ae9a70ca19bf"
      }
     }
    },
    "5a4eddd1-f1a7-4329-8122-0c5cee2c8d2c": {
     "id": "5a4eddd1-f1a7-4329-8122-0c5cee2c8d2c",
     "prev": "7ae5fcd0-f5c3-444f-8141-9fa67935fa10",
     "regions": {
      "3347e0e1-2da9-4d92-8a2c-2be326303dce": {
       "attrs": {
        "height": 0.8,
        "width": 0.8,
        "x": 0.1,
        "y": 0.1
       },
       "content": {
        "cell": "e397c07b-6d53-4156-a8b0-aa584ed464b4",
        "part": "whole"
       },
       "id": "3347e0e1-2da9-4d92-8a2c-2be326303dce"
      }
     }
    },
    "5b1977de-4d61-4329-b47a-18ed22f46ee7": {
     "id": "5b1977de-4d61-4329-b47a-18ed22f46ee7",
     "prev": "13a8f403-c728-456e-bdc1-9b97fc6358cc",
     "regions": {
      "92286fbe-6d3f-43a5-9a93-e943ac8c5866": {
       "attrs": {
        "height": 0.8,
        "width": 0.8,
        "x": 0.1,
        "y": 0.1
       },
       "content": {
        "cell": "73ae29c8-e27c-4e36-a1e3-09c7cb6fd646",
        "part": "whole"
       },
       "id": "92286fbe-6d3f-43a5-9a93-e943ac8c5866"
      }
     }
    },
    "5c6988a7-4829-452c-b61d-5c80f69ea660": {
     "id": "5c6988a7-4829-452c-b61d-5c80f69ea660",
     "prev": "2af492c2-eff0-4ad8-af58-f73ca8614699",
     "regions": {
      "c3d6bed3-7bcb-43b1-bf5f-b6cf1b7a1ad4": {
       "attrs": {
        "height": 0.8,
        "width": 0.8,
        "x": 0.1,
        "y": 0.1
       },
       "content": {
        "cell": "8859795e-ee0c-4e59-aa1a-bb6160512df1",
        "part": "whole"
       },
       "id": "c3d6bed3-7bcb-43b1-bf5f-b6cf1b7a1ad4"
      }
     }
    },
    "6227448e-2be4-438a-a087-0b37b3e109d7": {
     "id": "6227448e-2be4-438a-a087-0b37b3e109d7",
     "prev": "e8d54fd3-3022-44ad-8d10-4f50e0af45d1",
     "regions": {
      "79298a6b-d1e1-47f9-b0d1-064d8da16e75": {
       "attrs": {
        "height": 0.8,
        "width": 0.8,
        "x": 0.1,
        "y": 0.1
       },
       "content": {
        "cell": "f2fa7387-891d-49ad-88b0-d57b6e91b2df",
        "part": "whole"
       },
       "id": "79298a6b-d1e1-47f9-b0d1-064d8da16e75"
      }
     }
    },
    "63a8666e-87ad-4d0e-bd82-5fc77546a6cb": {
     "id": "63a8666e-87ad-4d0e-bd82-5fc77546a6cb",
     "prev": "e0f18324-5820-4baf-b2c4-d1d567306493",
     "regions": {
      "6a358477-65bc-4783-815d-6a4db6e06b76": {
       "attrs": {
        "height": 0.8,
        "width": 0.8,
        "x": 0.1,
        "y": 0.1
       },
       "content": {
        "cell": "2a280dcd-a750-4915-8137-6ac35d7b5337",
        "part": "whole"
       },
       "id": "6a358477-65bc-4783-815d-6a4db6e06b76"
      }
     }
    },
    "6522c49a-e75b-4820-893b-47cb70ea9754": {
     "id": "6522c49a-e75b-4820-893b-47cb70ea9754",
     "prev": "5c6988a7-4829-452c-b61d-5c80f69ea660",
     "regions": {
      "bfe12b60-8acd-4f7b-bbb9-abae29276190": {
       "attrs": {
        "height": 0.8,
        "width": 0.8,
        "x": 0.1,
        "y": 0.1
       },
       "content": {
        "cell": "035abf85-34d4-474a-90f2-934553d93f1d",
        "part": "whole"
       },
       "id": "bfe12b60-8acd-4f7b-bbb9-abae29276190"
      }
     }
    },
    "6664f479-3e6e-46ec-9f09-422c535751cb": {
     "id": "6664f479-3e6e-46ec-9f09-422c535751cb",
     "prev": "1d4845ad-09ad-4c88-b4d6-336bb647231e",
     "regions": {
      "e1701f3e-767d-452c-9bee-828ca942a8a6": {
       "attrs": {
        "height": 0.8,
        "width": 0.8,
        "x": 0.1,
        "y": 0.1
       },
       "content": {
        "cell": "ce51c55b-14f7-4324-ba1b-b4823e63c062",
        "part": "whole"
       },
       "id": "e1701f3e-767d-452c-9bee-828ca942a8a6"
      }
     }
    },
    "66c57997-e8e7-445f-b8af-18e986b72e3c": {
     "id": "66c57997-e8e7-445f-b8af-18e986b72e3c",
     "prev": "1c751ebb-1612-4d49-b0eb-6160abfb2633",
     "regions": {
      "b9e6e740-79dd-4454-a95d-9e18a274e642": {
       "attrs": {
        "height": 0.8,
        "width": 0.8,
        "x": 0.1,
        "y": 0.1
       },
       "content": {
        "cell": "ce528b57-2f6e-4424-8946-2f0ff9f38cd1",
        "part": "whole"
       },
       "id": "b9e6e740-79dd-4454-a95d-9e18a274e642"
      }
     }
    },
    "6dd1d2a8-b452-4051-8b95-e156c09a2194": {
     "id": "6dd1d2a8-b452-4051-8b95-e156c09a2194",
     "prev": "af6d5127-dff9-4f53-8c8b-24ae89a0d47e",
     "regions": {
      "7596206f-177f-4514-9998-80c8d0a9ac94": {
       "attrs": {
        "height": 0.8,
        "width": 0.8,
        "x": 0.1,
        "y": 0.1
       },
       "content": {
        "cell": "9c0d1dfb-1ef9-44dd-ba18-845c7091fad1",
        "part": "whole"
       },
       "id": "7596206f-177f-4514-9998-80c8d0a9ac94"
      }
     }
    },
    "6e1daef0-f77b-4c30-9234-c8b02a2d4269": {
     "id": "6e1daef0-f77b-4c30-9234-c8b02a2d4269",
     "prev": "3e185306-7fa2-4ad6-8483-3111e29d17d2",
     "regions": {
      "d3e115d2-4ea3-4671-b50c-db17c0f6aca2": {
       "attrs": {
        "height": 0.8,
        "width": 0.8,
        "x": 0.1,
        "y": 0.1
       },
       "content": {
        "cell": "1fb55478-e9f5-4fa1-bded-a6b98772c024",
        "part": "whole"
       },
       "id": "d3e115d2-4ea3-4671-b50c-db17c0f6aca2"
      }
     }
    },
    "6efa2fa1-2125-4e68-b61b-48fa51e9c4ff": {
     "id": "6efa2fa1-2125-4e68-b61b-48fa51e9c4ff",
     "prev": "ca09a565-7a02-44a2-a1ba-2e1d54f28838",
     "regions": {
      "acd3b607-dcae-4c2c-a578-e1cf807362c3": {
       "attrs": {
        "height": 0.8,
        "width": 0.8,
        "x": 0.1,
        "y": 0.1
       },
       "content": {
        "cell": "367853f8-52cc-4547-ba09-7af079a7cdb8",
        "part": "whole"
       },
       "id": "acd3b607-dcae-4c2c-a578-e1cf807362c3"
      }
     }
    },
    "71215503-99f3-4019-96ce-92c5bcf0f2de": {
     "id": "71215503-99f3-4019-96ce-92c5bcf0f2de",
     "prev": "798b5803-e829-4ee2-ae53-501caa8bbfe7",
     "regions": {
      "dbfbbf5c-1bf5-4a0a-a2bb-2219864b8998": {
       "attrs": {
        "height": 0.8,
        "width": 0.8,
        "x": 0.1,
        "y": 0.1
       },
       "content": {
        "cell": "fa6c5198-5fed-4b98-8fe6-0932898c9197",
        "part": "whole"
       },
       "id": "dbfbbf5c-1bf5-4a0a-a2bb-2219864b8998"
      }
     }
    },
    "7243506a-a867-44da-bb0f-fb31d4f47a19": {
     "id": "7243506a-a867-44da-bb0f-fb31d4f47a19",
     "prev": "dde7b77e-b432-4e47-b249-6f0c438d446e",
     "regions": {
      "1574eedd-2951-4d86-b454-2cfcea23d7c8": {
       "attrs": {
        "height": 0.8,
        "width": 0.8,
        "x": 0.1,
        "y": 0.1
       },
       "content": {
        "cell": "c92c1104-f9aa-4e80-be46-ee91de6a5a30",
        "part": "whole"
       },
       "id": "1574eedd-2951-4d86-b454-2cfcea23d7c8"
      }
     }
    },
    "75940cba-9b27-4286-b3cc-dd1743d25d6a": {
     "id": "75940cba-9b27-4286-b3cc-dd1743d25d6a",
     "prev": "8bd8e97b-781e-42b1-bd9f-95629157c730",
     "regions": {
      "8ffee85f-0c94-415e-9e57-e37433ecd94d": {
       "attrs": {
        "height": 0.8,
        "width": 0.8,
        "x": 0.1,
        "y": 0.1
       },
       "content": {
        "cell": "5097297e-7ad5-4cb8-a8e6-357e601c637c",
        "part": "whole"
       },
       "id": "8ffee85f-0c94-415e-9e57-e37433ecd94d"
      }
     }
    },
    "77b2ac70-5fa8-46dc-b0d9-1e94f1aca409": {
     "id": "77b2ac70-5fa8-46dc-b0d9-1e94f1aca409",
     "prev": "3383c4fe-58d2-4ed2-8b97-33bf3ff8051c",
     "regions": {
      "45825c41-f21f-4cf1-b63c-680afe3aba7d": {
       "attrs": {
        "height": 0.8,
        "width": 0.8,
        "x": 0.1,
        "y": 0.1
       },
       "content": {
        "cell": "544f075c-dbfc-42cc-b25d-158f2f023e80",
        "part": "whole"
       },
       "id": "45825c41-f21f-4cf1-b63c-680afe3aba7d"
      }
     }
    },
    "78eed0ad-154e-4b71-8a94-87df322250f0": {
     "id": "78eed0ad-154e-4b71-8a94-87df322250f0",
     "prev": "ac28894a-41d3-4988-95ea-f8fbac95f2b6",
     "regions": {
      "3d664407-b332-4054-9a6a-16723391176f": {
       "attrs": {
        "height": 0.8,
        "width": 0.8,
        "x": 0.1,
        "y": 0.1
       },
       "content": {
        "cell": "a54b312c-6581-4d07-82c3-71859315e0de",
        "part": "whole"
       },
       "id": "3d664407-b332-4054-9a6a-16723391176f"
      }
     }
    },
    "791d743e-08f0-46a0-a639-ab8ac8629f6c": {
     "id": "791d743e-08f0-46a0-a639-ab8ac8629f6c",
     "prev": "540536b4-680c-4f6a-855e-b469fcc98e19",
     "regions": {
      "1910eeb0-2ddf-40f3-9cfb-f2ef758c5556": {
       "attrs": {
        "height": 0.8,
        "width": 0.8,
        "x": 0.1,
        "y": 0.1
       },
       "content": {
        "cell": "b0dae24e-ad43-4bae-afd8-dd8f73b56ace",
        "part": "whole"
       },
       "id": "1910eeb0-2ddf-40f3-9cfb-f2ef758c5556"
      }
     }
    },
    "792ca548-83d8-400e-b816-e658e547829c": {
     "id": "792ca548-83d8-400e-b816-e658e547829c",
     "prev": "eab4b7ea-385e-4487-995b-8bbdcd2dd6f4",
     "regions": {
      "abdde862-01ac-4fce-b639-233d412f2968": {
       "attrs": {
        "height": 0.8,
        "width": 0.8,
        "x": 0.1,
        "y": 0.1
       },
       "content": {
        "cell": "8e5f7e42-ba9b-4989-8ff5-06e1442d8c95",
        "part": "whole"
       },
       "id": "abdde862-01ac-4fce-b639-233d412f2968"
      }
     }
    },
    "798b5803-e829-4ee2-ae53-501caa8bbfe7": {
     "id": "798b5803-e829-4ee2-ae53-501caa8bbfe7",
     "prev": "930da27c-0f14-4a4b-92fd-b6f1610f2821",
     "regions": {
      "a056324d-8316-49ab-b8c5-d425b6e8c85a": {
       "attrs": {
        "height": 0.8,
        "width": 0.8,
        "x": 0.1,
        "y": 0.1
       },
       "content": {
        "cell": "ead04317-82ab-4aab-9ff2-d6f15f6ec149",
        "part": "whole"
       },
       "id": "a056324d-8316-49ab-b8c5-d425b6e8c85a"
      }
     }
    },
    "7ae5fcd0-f5c3-444f-8141-9fa67935fa10": {
     "id": "7ae5fcd0-f5c3-444f-8141-9fa67935fa10",
     "prev": "aac18eb2-20ee-4634-8381-946c6c5f8700",
     "regions": {
      "6daa9986-392c-47f1-8b14-90c497fa0a2c": {
       "attrs": {
        "height": 0.8,
        "width": 0.8,
        "x": 0.1,
        "y": 0.1
       },
       "content": {
        "cell": "2f369985-d133-4feb-9977-1a9252700c04",
        "part": "whole"
       },
       "id": "6daa9986-392c-47f1-8b14-90c497fa0a2c"
      }
     }
    },
    "8124069e-067b-45b6-842d-33f0ac3c6db5": {
     "id": "8124069e-067b-45b6-842d-33f0ac3c6db5",
     "prev": "9b7a2ad7-050f-4b8e-b3f4-0f498b4cb6f4",
     "regions": {
      "d2deb62d-9014-4932-8da5-4b80d203983b": {
       "attrs": {
        "height": 0.8,
        "width": 0.8,
        "x": 0.1,
        "y": 0.1
       },
       "content": {
        "cell": "950acad2-446a-4078-a0bf-0aa330532093",
        "part": "whole"
       },
       "id": "d2deb62d-9014-4932-8da5-4b80d203983b"
      }
     }
    },
    "861c7e2c-4714-488b-b231-85c107d46765": {
     "id": "861c7e2c-4714-488b-b231-85c107d46765",
     "prev": "50948672-ee76-4cf7-9af7-964022c3ec16",
     "regions": {
      "2ee7aa7b-3409-415a-9005-c3b992877032": {
       "attrs": {
        "height": 0.8,
        "width": 0.8,
        "x": 0.1,
        "y": 0.1
       },
       "content": {
        "cell": "ef811e5b-53ef-4323-8254-2e28c5650cd5",
        "part": "whole"
       },
       "id": "2ee7aa7b-3409-415a-9005-c3b992877032"
      }
     }
    },
    "8bd8e97b-781e-42b1-bd9f-95629157c730": {
     "id": "8bd8e97b-781e-42b1-bd9f-95629157c730",
     "prev": "6522c49a-e75b-4820-893b-47cb70ea9754",
     "regions": {
      "161940a4-a84f-4559-b8a7-821158bf1024": {
       "attrs": {
        "height": 0.8,
        "width": 0.8,
        "x": 0.1,
        "y": 0.1
       },
       "content": {
        "cell": "a30e3a65-f69b-4f3b-a3b4-0514cea6934e",
        "part": "whole"
       },
       "id": "161940a4-a84f-4559-b8a7-821158bf1024"
      }
     }
    },
    "8f3a3ba2-7a13-42b9-8e38-1bad028fa412": {
     "id": "8f3a3ba2-7a13-42b9-8e38-1bad028fa412",
     "prev": "4a00cdd7-1822-415d-8c82-2bbb79662ad9",
     "regions": {
      "c58a63eb-85ae-4c27-935d-b31c3528cc2a": {
       "attrs": {
        "height": 0.8,
        "width": 0.8,
        "x": 0.1,
        "y": 0.1
       },
       "content": {
        "cell": "7b536522-eab2-40c5-b057-32fd63332822",
        "part": "whole"
       },
       "id": "c58a63eb-85ae-4c27-935d-b31c3528cc2a"
      }
     }
    },
    "9005e16c-c8fd-4824-b58b-27b54b9c257b": {
     "id": "9005e16c-c8fd-4824-b58b-27b54b9c257b",
     "prev": "2ba129ec-97cd-4ef1-bee7-fb1d76a8a8d9",
     "regions": {
      "66586097-9c72-4941-8661-c14ad8136549": {
       "attrs": {
        "height": 0.8,
        "width": 0.8,
        "x": 0.1,
        "y": 0.1
       },
       "content": {
        "cell": "2432c5c7-83c5-4a55-b6dd-8b6ef82d9a0a",
        "part": "whole"
       },
       "id": "66586097-9c72-4941-8661-c14ad8136549"
      }
     }
    },
    "92fa320f-837a-4164-9fdf-9bef6226fcf8": {
     "id": "92fa320f-837a-4164-9fdf-9bef6226fcf8",
     "prev": "119ff1c6-058e-4c23-ac66-d6cc3e87e971",
     "regions": {
      "920e7b39-d075-4461-ae7d-98d1fd71fd81": {
       "attrs": {
        "height": 0.8,
        "width": 0.8,
        "x": 0.1,
        "y": 0.1
       },
       "content": {
        "cell": "1c8c0b4f-f056-4e77-bfeb-992bb74028f4",
        "part": "whole"
       },
       "id": "920e7b39-d075-4461-ae7d-98d1fd71fd81"
      }
     }
    },
    "930da27c-0f14-4a4b-92fd-b6f1610f2821": {
     "id": "930da27c-0f14-4a4b-92fd-b6f1610f2821",
     "prev": "fe9afe0b-3caa-404c-b408-7c30ac33d43f",
     "regions": {
      "186499b9-32f3-4e1e-a20a-0a3f1227d7db": {
       "attrs": {
        "height": 0.8,
        "width": 0.8,
        "x": 0.1,
        "y": 0.1
       },
       "content": {
        "cell": "46665937-3173-461d-9639-8e8f656bdc99",
        "part": "whole"
       },
       "id": "186499b9-32f3-4e1e-a20a-0a3f1227d7db"
      }
     }
    },
    "96131c7f-2255-424f-8a66-feacf6282072": {
     "id": "96131c7f-2255-424f-8a66-feacf6282072",
     "prev": "152eb01b-2254-4996-8c4d-ca9c218719ac",
     "regions": {
      "e27fc1e9-842b-422c-93f6-7f01da498c69": {
       "attrs": {
        "height": 0.8,
        "width": 0.8,
        "x": 0.1,
        "y": 0.1
       },
       "content": {
        "cell": "3983ae4b-01ec-485b-b1c1-f590232dd333",
        "part": "whole"
       },
       "id": "e27fc1e9-842b-422c-93f6-7f01da498c69"
      }
     }
    },
    "967ba93d-fa5b-4ce9-a0df-317f5a079e9e": {
     "id": "967ba93d-fa5b-4ce9-a0df-317f5a079e9e",
     "prev": "b379bc41-0d9f-46da-a014-aeaaff4a88bf",
     "regions": {
      "1feee506-5b4a-4157-b55b-f573ee36dd77": {
       "attrs": {
        "height": 0.8,
        "width": 0.8,
        "x": 0.1,
        "y": 0.1
       },
       "content": {
        "cell": "4e139c95-e2b1-4bb5-94d4-5d893572c4c3",
        "part": "whole"
       },
       "id": "1feee506-5b4a-4157-b55b-f573ee36dd77"
      }
     }
    },
    "9ab63780-6166-4824-ab13-6710d406682f": {
     "id": "9ab63780-6166-4824-ab13-6710d406682f",
     "prev": "d89dc497-b54f-46bc-bd26-45f1b04cfd93",
     "regions": {
      "1c7dec94-49da-468b-b45c-fd8b34a5fd16": {
       "attrs": {
        "height": 0.8,
        "width": 0.8,
        "x": 0.1,
        "y": 0.1
       },
       "content": {
        "cell": "01a6734a-3306-4902-9fa9-3e139bf65897",
        "part": "whole"
       },
       "id": "1c7dec94-49da-468b-b45c-fd8b34a5fd16"
      }
     }
    },
    "9b7a2ad7-050f-4b8e-b3f4-0f498b4cb6f4": {
     "id": "9b7a2ad7-050f-4b8e-b3f4-0f498b4cb6f4",
     "prev": "cf142d75-6cd8-4d26-b379-2b1dc1e63d1b",
     "regions": {
      "0532664f-72fc-409b-bf27-19c23020d6af": {
       "attrs": {
        "height": 0.8,
        "width": 0.8,
        "x": 0.1,
        "y": 0.1
       },
       "content": {
        "cell": "4f9bd965-1659-4d1d-95d8-9fb3c1e8afed",
        "part": "whole"
       },
       "id": "0532664f-72fc-409b-bf27-19c23020d6af"
      }
     }
    },
    "9fd2a40d-b158-4952-b089-611074b471d5": {
     "id": "9fd2a40d-b158-4952-b089-611074b471d5",
     "prev": "cfa75470-acdf-4e0f-ad59-f6ef9b23c15c",
     "regions": {
      "2bf042d4-4f97-4a68-bda1-9443bff81a8c": {
       "attrs": {
        "height": 0.8,
        "width": 0.8,
        "x": 0.1,
        "y": 0.1
       },
       "content": {
        "cell": "91c1a483-2537-4a6d-8e1d-ab672ce1dc94",
        "part": "whole"
       },
       "id": "2bf042d4-4f97-4a68-bda1-9443bff81a8c"
      }
     }
    },
    "a16b32f7-5c7d-4d07-a0e9-9720c49aedb3": {
     "id": "a16b32f7-5c7d-4d07-a0e9-9720c49aedb3",
     "prev": "66c57997-e8e7-445f-b8af-18e986b72e3c",
     "regions": {
      "34b3546f-8991-47ac-9e85-5619a802c64d": {
       "attrs": {
        "height": 0.8,
        "width": 0.8,
        "x": 0.1,
        "y": 0.1
       },
       "content": {
        "cell": "2570b3bd-e3b0-4224-ad6b-0de7bd1c8031",
        "part": "whole"
       },
       "id": "34b3546f-8991-47ac-9e85-5619a802c64d"
      }
     }
    },
    "a905589e-7714-457b-9361-5015c6f68ea8": {
     "id": "a905589e-7714-457b-9361-5015c6f68ea8",
     "prev": "6227448e-2be4-438a-a087-0b37b3e109d7",
     "regions": {
      "1b80fc6e-4106-439c-8beb-6504084254a6": {
       "attrs": {
        "height": 0.8,
        "width": 0.8,
        "x": 0.1,
        "y": 0.1
       },
       "content": {
        "cell": "67b6395c-4d1e-4645-90b1-4a9266ba6adc",
        "part": "whole"
       },
       "id": "1b80fc6e-4106-439c-8beb-6504084254a6"
      }
     }
    },
    "aac18eb2-20ee-4634-8381-946c6c5f8700": {
     "id": "aac18eb2-20ee-4634-8381-946c6c5f8700",
     "prev": "6dd1d2a8-b452-4051-8b95-e156c09a2194",
     "regions": {
      "dab41734-778e-4deb-ba63-f9d68baa5cb3": {
       "attrs": {
        "height": 0.8,
        "width": 0.8,
        "x": 0.1,
        "y": 0.1
       },
       "content": {
        "cell": "35bd7763-43b0-4d2e-a35b-8b39e523f16b",
        "part": "whole"
       },
       "id": "dab41734-778e-4deb-ba63-f9d68baa5cb3"
      }
     }
    },
    "ac28894a-41d3-4988-95ea-f8fbac95f2b6": {
     "id": "ac28894a-41d3-4988-95ea-f8fbac95f2b6",
     "prev": "029e7aad-1237-476c-99a5-7408c577df3e",
     "regions": {
      "5143a3f1-1fe5-4f54-be6f-dc5fce581824": {
       "attrs": {
        "height": 0.8,
        "width": 0.8,
        "x": 0.1,
        "y": 0.1
       },
       "content": {
        "cell": "20efd863-2e8a-4307-b53f-c1324c475658",
        "part": "whole"
       },
       "id": "5143a3f1-1fe5-4f54-be6f-dc5fce581824"
      }
     }
    },
    "af6d5127-dff9-4f53-8c8b-24ae89a0d47e": {
     "id": "af6d5127-dff9-4f53-8c8b-24ae89a0d47e",
     "prev": "6e1daef0-f77b-4c30-9234-c8b02a2d4269",
     "regions": {
      "6ddfab6c-3d59-40b8-9c0e-591fc0ea89ca": {
       "attrs": {
        "height": 0.8,
        "width": 0.8,
        "x": 0.1,
        "y": 0.1
       },
       "content": {
        "cell": "96c5f532-ba17-4121-a5b0-61ca67399a3b",
        "part": "whole"
       },
       "id": "6ddfab6c-3d59-40b8-9c0e-591fc0ea89ca"
      }
     }
    },
    "af7bea67-0ddf-454b-a13f-3be254b3d1f6": {
     "id": "af7bea67-0ddf-454b-a13f-3be254b3d1f6",
     "prev": "78eed0ad-154e-4b71-8a94-87df322250f0",
     "regions": {
      "7fd5c003-144e-4cd8-9f0f-3d7d33ac1652": {
       "attrs": {
        "height": 0.8,
        "width": 0.8,
        "x": 0.1,
        "y": 0.1
       },
       "content": {
        "cell": "60fbb261-4680-4a10-bb82-e385b8616bb0",
        "part": "whole"
       },
       "id": "7fd5c003-144e-4cd8-9f0f-3d7d33ac1652"
      }
     }
    },
    "b18182f1-9aa6-4325-8c91-eb30f2d90271": {
     "id": "b18182f1-9aa6-4325-8c91-eb30f2d90271",
     "prev": "4a26e9e0-63e0-46aa-b1fd-caeaa1bda9a4",
     "regions": {
      "9b975d71-a137-49f3-9de8-ef22fed242cb": {
       "attrs": {
        "height": 0.8,
        "width": 0.8,
        "x": 0.1,
        "y": 0.1
       },
       "content": {
        "cell": "6717f4e1-562e-447d-be9d-7194c205a165",
        "part": "whole"
       },
       "id": "9b975d71-a137-49f3-9de8-ef22fed242cb"
      }
     }
    },
    "b379bc41-0d9f-46da-a014-aeaaff4a88bf": {
     "id": "b379bc41-0d9f-46da-a014-aeaaff4a88bf",
     "prev": "9005e16c-c8fd-4824-b58b-27b54b9c257b",
     "regions": {
      "ce606a4b-11a3-4b0e-b6ed-20cf4960bc9d": {
       "attrs": {
        "height": 0.8,
        "width": 0.8,
        "x": 0.1,
        "y": 0.1
       },
       "content": {
        "cell": "e6c70627-c057-4ab4-aa78-4425083e7181",
        "part": "whole"
       },
       "id": "ce606a4b-11a3-4b0e-b6ed-20cf4960bc9d"
      }
     }
    },
    "b41fb9d0-b6c1-4630-8c15-c389519a565a": {
     "id": "b41fb9d0-b6c1-4630-8c15-c389519a565a",
     "prev": "92fa320f-837a-4164-9fdf-9bef6226fcf8",
     "regions": {
      "d7033505-cc2d-46f8-a349-6cf4769395ca": {
       "attrs": {
        "height": 0.8,
        "width": 0.8,
        "x": 0.1,
        "y": 0.1
       },
       "content": {
        "cell": "0511dc0a-bd83-4b56-9754-ffb322bf2c61",
        "part": "whole"
       },
       "id": "d7033505-cc2d-46f8-a349-6cf4769395ca"
      }
     }
    },
    "b49bb003-2642-44b8-9714-3ed643d552e2": {
     "id": "b49bb003-2642-44b8-9714-3ed643d552e2",
     "prev": "1ec6d29b-88c1-445e-adba-b544c96c4c07",
     "regions": {
      "d593d6f6-2337-452f-91b9-ac9126065b0d": {
       "attrs": {
        "height": 0.8,
        "width": 0.8,
        "x": 0.1,
        "y": 0.1
       },
       "content": {
        "cell": "091b9269-0111-42e6-b5e3-e7daa704a8ad",
        "part": "whole"
       },
       "id": "d593d6f6-2337-452f-91b9-ac9126065b0d"
      }
     }
    },
    "b4cc1721-2e5b-4245-9871-1814aa4a7218": {
     "id": "b4cc1721-2e5b-4245-9871-1814aa4a7218",
     "prev": "2d5fc9f2-d475-4644-b9c7-8b0beab23a80",
     "regions": {
      "4a51afeb-61b8-4453-b72b-cdc50180f1d4": {
       "attrs": {
        "height": 0.8,
        "width": 0.8,
        "x": 0.1,
        "y": 0.1
       },
       "content": {
        "cell": "45584dd9-fe3a-4d3e-bf79-5c0da5c90246",
        "part": "whole"
       },
       "id": "4a51afeb-61b8-4453-b72b-cdc50180f1d4"
      }
     }
    },
    "b5a051a8-a2be-4649-a0db-6c11fa8c6cdb": {
     "id": "b5a051a8-a2be-4649-a0db-6c11fa8c6cdb",
     "prev": "c7f8372a-f63e-434e-a2b6-f8946c805080",
     "regions": {
      "bdba6502-32f8-4d43-935b-4bffbb9291bd": {
       "attrs": {
        "height": 0.8,
        "width": 0.8,
        "x": 0.1,
        "y": 0.1
       },
       "content": {
        "cell": "ff967c33-3cbd-4f32-9712-d8a53bf59fc0",
        "part": "whole"
       },
       "id": "bdba6502-32f8-4d43-935b-4bffbb9291bd"
      }
     }
    },
    "be31001f-0c32-42d4-a52d-4e015c39af51": {
     "id": "be31001f-0c32-42d4-a52d-4e015c39af51",
     "prev": "3d6da274-73fd-4535-b511-b2c1841ad51c",
     "regions": {
      "1c8fcf3e-ed58-4724-8980-1aa2361d236d": {
       "attrs": {
        "height": 0.8,
        "width": 0.8,
        "x": 0.1,
        "y": 0.1
       },
       "content": {
        "cell": "ea37ac86-5c8a-4e4e-bc9e-582915e3e971",
        "part": "whole"
       },
       "id": "1c8fcf3e-ed58-4724-8980-1aa2361d236d"
      }
     }
    },
    "be6071b9-ef90-4b5c-a0f7-5da78b503131": {
     "id": "be6071b9-ef90-4b5c-a0f7-5da78b503131",
     "prev": "7243506a-a867-44da-bb0f-fb31d4f47a19",
     "regions": {
      "7ea9a585-3a75-4016-9ba2-efb4fa2fdcf5": {
       "attrs": {
        "height": 0.8,
        "width": 0.8,
        "x": 0.1,
        "y": 0.1
       },
       "content": {
        "cell": "bdf9c11d-0e86-4724-9c70-29f580fe678f",
        "part": "whole"
       },
       "id": "7ea9a585-3a75-4016-9ba2-efb4fa2fdcf5"
      }
     }
    },
    "be8b3e33-68f7-4d78-aaf7-133f93e1ee44": {
     "id": "be8b3e33-68f7-4d78-aaf7-133f93e1ee44",
     "prev": "17e1fe3e-6084-48a2-bba8-a8c83686e142",
     "regions": {
      "3d09b3c9-ebac-471c-8fa1-c02299eeb823": {
       "attrs": {
        "height": 0.8,
        "width": 0.8,
        "x": 0.1,
        "y": 0.1
       },
       "content": {
        "cell": "8054945c-3a64-4bb4-9e2f-a555e305bf77",
        "part": "whole"
       },
       "id": "3d09b3c9-ebac-471c-8fa1-c02299eeb823"
      }
     }
    },
    "c69de45e-23d3-44dd-98cb-0971aa88260c": {
     "id": "c69de45e-23d3-44dd-98cb-0971aa88260c",
     "prev": "4c86d42c-d398-4225-a5d0-f00791414fb5",
     "regions": {
      "65293b6a-2545-4353-b1e9-c87ab6f7cea1": {
       "attrs": {
        "height": 0.8,
        "width": 0.8,
        "x": 0.1,
        "y": 0.1
       },
       "content": {
        "cell": "b097c9d7-2178-4f8f-a47a-aa2800a8aa5b",
        "part": "whole"
       },
       "id": "65293b6a-2545-4353-b1e9-c87ab6f7cea1"
      }
     }
    },
    "c7f8372a-f63e-434e-a2b6-f8946c805080": {
     "id": "c7f8372a-f63e-434e-a2b6-f8946c805080",
     "prev": "0eb51ca6-8513-48fa-838a-51444060bc00",
     "regions": {
      "0a4f6d34-3a92-483c-81be-d2f2d7f1092c": {
       "attrs": {
        "height": 0.8,
        "width": 0.8,
        "x": 0.1,
        "y": 0.1
       },
       "content": {
        "cell": "4b0b7980-fbeb-4d4a-8ab1-7895a54c93de",
        "part": "whole"
       },
       "id": "0a4f6d34-3a92-483c-81be-d2f2d7f1092c"
      }
     }
    },
    "c9adfd53-390b-492d-accd-9e05c74409ab": {
     "id": "c9adfd53-390b-492d-accd-9e05c74409ab",
     "prev": "008b22dc-625e-4e95-adf3-a40fb79b36a0",
     "regions": {
      "09d1e1a7-cd6a-47b4-86ae-d458b7db8419": {
       "attrs": {
        "height": 0.8,
        "width": 0.8,
        "x": 0.1,
        "y": 0.1
       },
       "content": {
        "cell": "78140ef7-20ab-4600-a567-2a1daddd23ad",
        "part": "whole"
       },
       "id": "09d1e1a7-cd6a-47b4-86ae-d458b7db8419"
      }
     }
    },
    "ca09a565-7a02-44a2-a1ba-2e1d54f28838": {
     "id": "ca09a565-7a02-44a2-a1ba-2e1d54f28838",
     "prev": "8f3a3ba2-7a13-42b9-8e38-1bad028fa412",
     "regions": {
      "4df63a87-5268-4a8d-b1c6-8613cc70deda": {
       "attrs": {
        "height": 0.8,
        "width": 0.8,
        "x": 0.1,
        "y": 0.1
       },
       "content": {
        "cell": "f02b7719-cf0b-416c-8b53-3487eaf2b50e",
        "part": "whole"
       },
       "id": "4df63a87-5268-4a8d-b1c6-8613cc70deda"
      }
     }
    },
    "cab35100-d1fc-48bf-87a5-d0cd13c8e4e6": {
     "id": "cab35100-d1fc-48bf-87a5-d0cd13c8e4e6",
     "prev": "edfbd500-334e-4d49-9b43-a69505cd38d9",
     "regions": {
      "293ceaea-f895-4b4e-bb9c-a45fea2905d2": {
       "attrs": {
        "height": 0.8,
        "width": 0.8,
        "x": 0.1,
        "y": 0.1
       },
       "content": {
        "cell": "d82b7e16-741f-40ef-b9c7-1bcd1738b43a",
        "part": "whole"
       },
       "id": "293ceaea-f895-4b4e-bb9c-a45fea2905d2"
      }
     }
    },
    "cf142d75-6cd8-4d26-b379-2b1dc1e63d1b": {
     "id": "cf142d75-6cd8-4d26-b379-2b1dc1e63d1b",
     "prev": "d2d81291-734f-4201-a6c6-f2a520300a5c",
     "regions": {
      "f6643edd-eebc-4e11-a4a8-564a0ac135f3": {
       "attrs": {
        "height": 0.8,
        "width": 0.8,
        "x": 0.1,
        "y": 0.1
       },
       "content": {
        "cell": "f674d527-21f3-4206-8d68-0faef6ed2642",
        "part": "whole"
       },
       "id": "f6643edd-eebc-4e11-a4a8-564a0ac135f3"
      }
     }
    },
    "cfa75470-acdf-4e0f-ad59-f6ef9b23c15c": {
     "id": "cfa75470-acdf-4e0f-ad59-f6ef9b23c15c",
     "prev": "5b1977de-4d61-4329-b47a-18ed22f46ee7",
     "regions": {
      "22dbfd6f-6665-4386-b8df-9f8bed29309d": {
       "attrs": {
        "height": 0.8,
        "width": 0.8,
        "x": 0.1,
        "y": 0.1
       },
       "content": {
        "cell": "d1e3d633-250d-4118-afd0-064d380e2923",
        "part": "whole"
       },
       "id": "22dbfd6f-6665-4386-b8df-9f8bed29309d"
      }
     }
    },
    "d2a1f9d0-13e4-4aa5-9bd2-b3e9e3a515dd": {
     "id": "d2a1f9d0-13e4-4aa5-9bd2-b3e9e3a515dd",
     "prev": "be8b3e33-68f7-4d78-aaf7-133f93e1ee44",
     "regions": {
      "aac70f93-2864-4e26-b92e-bcb4ee77f753": {
       "attrs": {
        "height": 0.8,
        "width": 0.8,
        "x": 0.1,
        "y": 0.1
       },
       "content": {
        "cell": "b3fd2537-1f60-4d14-b506-692ea2c7a70d",
        "part": "whole"
       },
       "id": "aac70f93-2864-4e26-b92e-bcb4ee77f753"
      }
     }
    },
    "d2d81291-734f-4201-a6c6-f2a520300a5c": {
     "id": "d2d81291-734f-4201-a6c6-f2a520300a5c",
     "prev": "6efa2fa1-2125-4e68-b61b-48fa51e9c4ff",
     "regions": {
      "8c7745e6-c8e5-4a2f-be5f-08d62df3b537": {
       "attrs": {
        "height": 0.8,
        "width": 0.8,
        "x": 0.1,
        "y": 0.1
       },
       "content": {
        "cell": "00ae8981-df60-4169-9227-1eb5eae19035",
        "part": "whole"
       },
       "id": "8c7745e6-c8e5-4a2f-be5f-08d62df3b537"
      }
     }
    },
    "d7cd2435-c21d-458b-8654-c46c911ee593": {
     "id": "d7cd2435-c21d-458b-8654-c46c911ee593",
     "prev": "0efed9fe-9cd1-442e-a7fb-40a0db6d6ec1",
     "regions": {
      "76728c79-665d-4cf5-86f6-ec564d154113": {
       "attrs": {
        "height": 0.8,
        "width": 0.8,
        "x": 0.1,
        "y": 0.1
       },
       "content": {
        "cell": "b2a31212-6329-4edb-8348-2a2fa9ec374f",
        "part": "whole"
       },
       "id": "76728c79-665d-4cf5-86f6-ec564d154113"
      }
     }
    },
    "d89dc497-b54f-46bc-bd26-45f1b04cfd93": {
     "id": "d89dc497-b54f-46bc-bd26-45f1b04cfd93",
     "prev": "e8642ae0-087c-4eec-9225-d852b330bd29",
     "regions": {
      "b4623d3a-1ca7-4b2c-8cc7-23a5a87bfd93": {
       "attrs": {
        "height": 0.8,
        "width": 0.8,
        "x": 0.1,
        "y": 0.1
       },
       "content": {
        "cell": "2780b644-4f0f-453d-825e-cca40056a986",
        "part": "whole"
       },
       "id": "b4623d3a-1ca7-4b2c-8cc7-23a5a87bfd93"
      }
     }
    },
    "dde7b77e-b432-4e47-b249-6f0c438d446e": {
     "id": "dde7b77e-b432-4e47-b249-6f0c438d446e",
     "prev": "b4cc1721-2e5b-4245-9871-1814aa4a7218",
     "regions": {
      "caf3d081-4271-49ae-975f-3648f9699f3d": {
       "attrs": {
        "height": 0.8,
        "width": 0.8,
        "x": 0.1,
        "y": 0.1
       },
       "content": {
        "cell": "e3666681-ed79-414b-9e2c-0ee70481c003",
        "part": "whole"
       },
       "id": "caf3d081-4271-49ae-975f-3648f9699f3d"
      }
     }
    },
    "e078452b-bd57-4729-9ee1-29bd9661f861": {
     "id": "e078452b-bd57-4729-9ee1-29bd9661f861",
     "prev": "123ad174-878d-4179-a94d-2165ab613bb2",
     "regions": {
      "36384fe3-2e51-46d8-9c14-932c7a4baa75": {
       "attrs": {
        "height": 0.8,
        "width": 0.8,
        "x": 0.1,
        "y": 0.1
       },
       "content": {
        "cell": "07fccab4-db2a-4d76-ab72-d69fb2964ed9",
        "part": "whole"
       },
       "id": "36384fe3-2e51-46d8-9c14-932c7a4baa75"
      }
     }
    },
    "e0f18324-5820-4baf-b2c4-d1d567306493": {
     "id": "e0f18324-5820-4baf-b2c4-d1d567306493",
     "prev": "77b2ac70-5fa8-46dc-b0d9-1e94f1aca409",
     "regions": {
      "3590b2ac-08b8-4163-b24d-c727bbe02ded": {
       "attrs": {
        "height": 0.8,
        "width": 0.8,
        "x": 0.1,
        "y": 0.1
       },
       "content": {
        "cell": "bf2c87fb-8397-4d87-abbf-9d51764eaf67",
        "part": "whole"
       },
       "id": "3590b2ac-08b8-4163-b24d-c727bbe02ded"
      }
     }
    },
    "e28ba685-6fe3-48a2-a50d-c1b76676efda": {
     "id": "e28ba685-6fe3-48a2-a50d-c1b76676efda",
     "prev": "2d304171-4443-4909-adf9-8e8e2c8a4020",
     "regions": {
      "012d6216-5676-47a2-89d2-783457429bc0": {
       "attrs": {
        "height": 0.8,
        "width": 0.8,
        "x": 0.1,
        "y": 0.1
       },
       "content": {
        "cell": "bfb56755-4df1-49e6-9271-6b4fc2380635",
        "part": "whole"
       },
       "id": "012d6216-5676-47a2-89d2-783457429bc0"
      }
     }
    },
    "e8642ae0-087c-4eec-9225-d852b330bd29": {
     "id": "e8642ae0-087c-4eec-9225-d852b330bd29",
     "prev": "b49bb003-2642-44b8-9714-3ed643d552e2",
     "regions": {
      "aa128fb3-d13d-43b3-995e-2f5c4dffae2d": {
       "attrs": {
        "height": 0.8,
        "width": 0.8,
        "x": 0.1,
        "y": 0.1
       },
       "content": {
        "cell": "da61469a-7c1d-450b-84ef-b1887abfee1d",
        "part": "whole"
       },
       "id": "aa128fb3-d13d-43b3-995e-2f5c4dffae2d"
      }
     }
    },
    "e8d54fd3-3022-44ad-8d10-4f50e0af45d1": {
     "id": "e8d54fd3-3022-44ad-8d10-4f50e0af45d1",
     "prev": "c9adfd53-390b-492d-accd-9e05c74409ab",
     "regions": {
      "b8920205-3071-4bc9-b780-0152a71e8973": {
       "attrs": {
        "height": 0.8,
        "width": 0.8,
        "x": 0.1,
        "y": 0.1
       },
       "content": {
        "cell": "98d23ac8-d585-4a58-a41c-2c18fdac46c0",
        "part": "whole"
       },
       "id": "b8920205-3071-4bc9-b780-0152a71e8973"
      }
     }
    },
    "eab4b7ea-385e-4487-995b-8bbdcd2dd6f4": {
     "id": "eab4b7ea-385e-4487-995b-8bbdcd2dd6f4",
     "prev": null,
     "regions": {
      "27e918e7-02cd-47bb-a607-2e4c7a2623db": {
       "attrs": {
        "height": 0.8,
        "width": 0.8,
        "x": 0.1,
        "y": 0.1
       },
       "content": {
        "cell": "e267fb58-9e5b-46cb-9949-8ba4c63e9f4f",
        "part": "whole"
       },
       "id": "27e918e7-02cd-47bb-a607-2e4c7a2623db"
      }
     }
    },
    "edfbd500-334e-4d49-9b43-a69505cd38d9": {
     "id": "edfbd500-334e-4d49-9b43-a69505cd38d9",
     "prev": "01c4f385-0d09-4d67-8843-e33497d08ca9",
     "regions": {
      "8632b0d0-02fd-47bc-8645-95de3686d4d1": {
       "attrs": {
        "height": 0.8,
        "width": 0.8,
        "x": 0.1,
        "y": 0.1
       },
       "content": {
        "cell": "64a3da7c-3dad-4ffb-8db6-e772ec49f5d3",
        "part": "whole"
       },
       "id": "8632b0d0-02fd-47bc-8645-95de3686d4d1"
      }
     }
    },
    "f5326b8d-d217-4277-9223-c3ec18b58e15": {
     "id": "f5326b8d-d217-4277-9223-c3ec18b58e15",
     "prev": "9fd2a40d-b158-4952-b089-611074b471d5",
     "regions": {
      "54e4b672-aa68-4c1b-bd24-05808c8387ce": {
       "attrs": {
        "height": 0.8,
        "width": 0.8,
        "x": 0.1,
        "y": 0.1
       },
       "content": {
        "cell": "31a6872f-f0c6-4418-a18c-c7ca2900eb7b",
        "part": "whole"
       },
       "id": "54e4b672-aa68-4c1b-bd24-05808c8387ce"
      }
     }
    },
    "fe9afe0b-3caa-404c-b408-7c30ac33d43f": {
     "id": "fe9afe0b-3caa-404c-b408-7c30ac33d43f",
     "prev": "75940cba-9b27-4286-b3cc-dd1743d25d6a",
     "regions": {
      "308937b6-03d0-43a1-a117-4f953996c4cb": {
       "attrs": {
        "height": 0.8,
        "width": 0.8,
        "x": 0.1,
        "y": 0.1
       },
       "content": {
        "cell": "3869ecb6-bc3c-4408-aa70-5cfd199fbdbc",
        "part": "whole"
       },
       "id": "308937b6-03d0-43a1-a117-4f953996c4cb"
      }
     }
    }
   },
   "themes": {}
  }
 },
 "nbformat": 4,
 "nbformat_minor": 0
}
