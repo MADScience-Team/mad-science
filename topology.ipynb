{
 "cells": [
  {
   "cell_type": "markdown",
   "metadata": {},
   "source": [
    "### An outline of what I hope to accomplish\n",
    "\n",
    "1. Load in digits data\n",
    "2. Compute the nearest neighbors graph\n",
    "3. Use Fiedler embedding to reduce dimension to 6\n",
    "4. Compute local density.\n",
    "5. Apply mapper code using the local density of the Fiedler embedding"
   ]
  },
  {
   "cell_type": "code",
   "execution_count": 1,
   "metadata": {
    "collapsed": true
   },
   "outputs": [],
   "source": [
    "import sys\n",
    "import numpy\n",
    "import itertools\n",
    "from matplotlib import pyplot"
   ]
  },
  {
   "cell_type": "code",
   "execution_count": 2,
   "metadata": {
    "collapsed": true
   },
   "outputs": [],
   "source": [
    "%matplotlib inline"
   ]
  },
  {
   "cell_type": "code",
   "execution_count": 15,
   "metadata": {
    "collapsed": true
   },
   "outputs": [],
   "source": [
    "from sklearn.datasets import load_digits\n",
    "from sklearn.neighbors import NearestNeighbors"
   ]
  },
  {
   "cell_type": "markdown",
   "metadata": {},
   "source": [
    "## 1. Load digits\n",
    "\n",
    "Step 1 is easy. The only work lies in turning an 8x8 grid into a 64 long vector. We use the `reshape` command."
   ]
  },
  {
   "cell_type": "code",
   "execution_count": 4,
   "metadata": {
    "collapsed": true
   },
   "outputs": [],
   "source": [
    "dataset = load_digits()\n",
    "n_samples = len(dataset.images)"
   ]
  },
  {
   "cell_type": "code",
   "execution_count": 5,
   "metadata": {
    "collapsed": false
   },
   "outputs": [],
   "source": [
    "digits = dataset.images.reshape((n_samples,-1))"
   ]
  },
  {
   "cell_type": "code",
   "execution_count": 6,
   "metadata": {
    "collapsed": false
   },
   "outputs": [
    {
     "data": {
      "text/plain": [
       "(1797, 64)"
      ]
     },
     "execution_count": 6,
     "metadata": {},
     "output_type": "execute_result"
    }
   ],
   "source": [
    "digits.shape"
   ]
  },
  {
   "cell_type": "markdown",
   "metadata": {},
   "source": [
    "## 2. Nearest neighbors graph"
   ]
  },
  {
   "cell_type": "markdown",
   "metadata": {},
   "source": [
    "Bill's blog refers to the Nearest Neighbors graph. He neglects to mention a value for k. Let's go with k=2."
   ]
  },
  {
   "cell_type": "code",
   "execution_count": 24,
   "metadata": {
    "collapsed": true
   },
   "outputs": [],
   "source": [
    "k = 2"
   ]
  },
  {
   "cell_type": "code",
   "execution_count": 25,
   "metadata": {
    "collapsed": true
   },
   "outputs": [],
   "source": [
    "neighbors = NearestNeighbors(n_neighbors = k).fit(digits)"
   ]
  },
  {
   "cell_type": "code",
   "execution_count": 28,
   "metadata": {
    "collapsed": false
   },
   "outputs": [],
   "source": [
    "neighbor_graph = neighbors.kneighbors_graph(digits).toarray()"
   ]
  },
  {
   "cell_type": "markdown",
   "metadata": {},
   "source": [
    "## 3. Fiedler embedding\n",
    "\n",
    "Now we run into trouble because I don't know what a Fiedler embedding is.\n",
    "\n",
    "A perhaps related phrase I know is \"Fiedler vector\". This is a vector associated to a graph. Given a graph, compute the Laplacian matrix. Then compute and order the eigenvalues. The eigenvector corresponding to the second-smallest eigenvalue is the Fiedler vector. People find the concept useful and all the words meaningful.\n",
    "\n",
    "I found this at Gitlab:\n",
    "\n",
    "https://github.com/aneesha/Fiedler-Embeddings.git\n",
    "\n",
    "They credit the notion of Fiedler embedding to Sandia Labs. From http://www.siam.org/meetings/sdm06/workproceed/Text%20Mining/hendrickson22.pdf\n",
    "\n",
    "Given a graph:\n",
    "1. Generate Laplacian matrix\n",
    "2. Compute eigenvectors $u_2,\\dots,u_{k+1}$, where eigenvectors are ordered by the corresponding eigenvalues, with $u_1$ corresponding to the smallest. Thus $u_2$ is the Fiedler vector.\n",
    "3. Let $Q = [u_2,\\dots, u_{k+1}]$.\n",
    "4. Position vertex i at $\\Delta^{1/2}Q^Te_i,$ where $e_i$ is the one-hot vector that is all zeroes except for a 1 in the $i$th position.\n",
    "\n",
    "∆ is described as a \"diagonal, non-negative matrix of coordinate scalings\". I'll let you puzzle out what exactly that matrix should look like."
   ]
  },
  {
   "cell_type": "markdown",
   "metadata": {},
   "source": [
    "The fiedlerembedding code isn't good by most standards. Not a package one can install. Python2. And importing it just spits stuff to the screen. So I stuck it in a folder in my path, ran 2to3 on it, and added a `__name__=='__main'`"
   ]
  },
  {
   "cell_type": "code",
   "execution_count": 7,
   "metadata": {
    "collapsed": false
   },
   "outputs": [],
   "source": [
    "import fiedlerembedding"
   ]
  },
  {
   "cell_type": "code",
   "execution_count": 8,
   "metadata": {
    "collapsed": false
   },
   "outputs": [
    {
     "name": "stdout",
     "output_type": "stream",
     "text": [
      "[[ -1.39860904e-08  -1.39860904e-08  -1.39860904e-08  -1.39860904e-08\n",
      "   -1.39860904e-08  -1.39860904e-08  -1.39860904e-08  -1.39860904e-08\n",
      "   -1.39860904e-08  -1.39860904e-08  -1.39860904e-08  -1.39860904e-08\n",
      "   -1.39860904e-08  -1.39860904e-08  -1.39860904e-08  -1.39860904e-08\n",
      "   -1.39860904e-08  -1.39860904e-08  -1.39860904e-08  -1.39860904e-08\n",
      "   -1.39860904e-08]\n",
      " [ -1.08446518e-01  -1.17011359e-01  -1.05143939e-01  -1.05751595e-01\n",
      "   -1.41384439e-01  -1.09768349e-01  -1.05143939e-01  -1.08863118e-01\n",
      "    1.83082235e-01  -2.20175131e-02   2.47207340e-01   1.96657372e-01\n",
      "   -9.51410743e-02  -1.22183101e-01  -1.14775133e-01  -1.13342837e-01\n",
      "   -1.80893650e-01   2.95001263e-01   2.47337607e-01   2.30282111e-01\n",
      "    1.50298635e-01]]\n",
      "[ -1.39860904e-08  -1.05143939e-01]\n",
      "[0 1]\n",
      "computer\n",
      "EPS\n"
     ]
    }
   ],
   "source": [
    "# This runs the example given\n",
    "fiedlerembedding.main()"
   ]
  },
  {
   "cell_type": "markdown",
   "metadata": {},
   "source": [
    "Now, the example of Fiedler embedding in the code starts with the document-term matrix, where the rows represent documents and the columns terms.\n",
    "\n",
    "The description above is considered more general, and begins with a graph, which is representable by an adjacency matrix, where both rows and columns represent vertices.\n",
    "\n",
    "An adjacency matrix is what we have. So we don't have to worry about the createLaplacian piece of the fiedler embedding code"
   ]
  },
  {
   "cell_type": "code",
   "execution_count": 29,
   "metadata": {
    "collapsed": true
   },
   "outputs": [],
   "source": [
    "# Choose the dimension of your embedding\n",
    "k = 6"
   ]
  },
  {
   "cell_type": "code",
   "execution_count": 30,
   "metadata": {
    "collapsed": false
   },
   "outputs": [
    {
     "name": "stderr",
     "output_type": "stream",
     "text": [
      "/Users/chrisn/mad-science/fiedlerembedding.py:59: RuntimeWarning: invalid value encountered in sqrt\n",
      "  eval_k = diag(eval_k,0)**0.5\n"
     ]
    }
   ],
   "source": [
    "S = fiedlerembedding.fiedlerEmbeddedSpace(neighbor_graph,k)"
   ]
  },
  {
   "cell_type": "markdown",
   "metadata": {},
   "source": [
    "I got a runtime warning about null values and square roots. I chose to ignore it."
   ]
  },
  {
   "cell_type": "code",
   "execution_count": 31,
   "metadata": {
    "collapsed": false
   },
   "outputs": [
    {
     "data": {
      "text/plain": [
       "(6, 1797)"
      ]
     },
     "execution_count": 31,
     "metadata": {},
     "output_type": "execute_result"
    }
   ],
   "source": [
    "S.shape"
   ]
  },
  {
   "cell_type": "markdown",
   "metadata": {},
   "source": [
    "That shape is really the transpose of what I expected, but let's go with it."
   ]
  },
  {
   "cell_type": "code",
   "execution_count": 37,
   "metadata": {
    "collapsed": false
   },
   "outputs": [
    {
     "data": {
      "text/plain": [
       "array([[             nan,              nan,              nan, ...,\n",
       "                     nan,              nan,              nan],\n",
       "       [             nan,              nan,              nan, ...,\n",
       "                     nan,              nan,              nan],\n",
       "       [             nan,              nan,              nan, ...,\n",
       "                     nan,              nan,              nan],\n",
       "       [ -3.49735928e-05,   6.51846362e-06,   1.08060906e-05, ...,\n",
       "          1.57257983e-04,   3.20151435e-06,  -1.82793162e-04],\n",
       "       [  2.83771387e-03,   3.69696885e-03,  -1.10151360e-03, ...,\n",
       "         -1.52625256e-04,   1.81942919e-03,   2.67960758e-03],\n",
       "       [ -1.07619904e-03,   2.64255229e-04,  -3.91267506e-04, ...,\n",
       "          3.54599514e-04,  -9.80909371e-04,   1.74600795e-03]])"
      ]
     },
     "execution_count": 37,
     "metadata": {},
     "output_type": "execute_result"
    }
   ],
   "source": [
    "S"
   ]
  },
  {
   "cell_type": "markdown",
   "metadata": {},
   "source": [
    "## 3. Local density\n",
    "\n",
    "To each of our 1797 images, we associate a local density. The number of images in a ball of fixed radius around our given image.\n",
    "\n",
    "What radius to pick?\n",
    "\n",
    "And Bill's blog suggested computing local density not on the given 64-dimensional space, but rather on a 6-dimensional space. The above was supposed to deal with that, but I'm not overly satisfied.\n",
    "\n",
    "Pressing forward anyway, we define a radius."
   ]
  },
  {
   "cell_type": "code",
   "execution_count": 32,
   "metadata": {
    "collapsed": true
   },
   "outputs": [],
   "source": [
    "mymatrix = digits # Perhaps change to the Fiedler embedding if that works.r4fr"
   ]
  },
  {
   "cell_type": "code",
   "execution_count": null,
   "metadata": {
    "collapsed": false
   },
   "outputs": [],
   "source": []
  },
  {
   "cell_type": "code",
   "execution_count": 33,
   "metadata": {
    "collapsed": false
   },
   "outputs": [],
   "source": [
    "distances = numpy.zeros((n_samples,n_samples))\n",
    "for i,j in itertools.combinations(range(n_samples),2):\n",
    "    distances[i,j] = numpy.linalg.norm(mymatrix[i]-mymatrix[j])"
   ]
  },
  {
   "cell_type": "code",
   "execution_count": 34,
   "metadata": {
    "collapsed": false
   },
   "outputs": [
    {
     "data": {
      "image/png": "[encoded data removed]",
      "text/plain": [
       "<matplotlib.figure.Figure at 0x11343af98>"
      ]
     },
     "metadata": {},
     "output_type": "display_data"
    }
   ],
   "source": [
    "flat = distances.flatten()\n",
    "flat.sort()\n",
    "pyplot.plot(flat);"
   ]
  },
  {
   "cell_type": "markdown",
   "metadata": {},
   "source": [
    "With any luck, the picture above suggests a good radius to call close."
   ]
  },
  {
   "cell_type": "code",
   "execution_count": 35,
   "metadata": {
    "collapsed": false
   },
   "outputs": [],
   "source": [
    "r = 20"
   ]
  },
  {
   "cell_type": "code",
   "execution_count": 36,
   "metadata": {
    "collapsed": false
   },
   "outputs": [
    {
     "data": {
      "text/plain": [
       "array([  44,    6,    4, ..., 1795, 1796, 1797])"
      ]
     },
     "execution_count": 36,
     "metadata": {},
     "output_type": "execute_result"
    }
   ],
   "source": [
    "# Then this numpy array represents your local densities.\n",
    "(distances < 20).sum(axis=1)"
   ]
  },
  {
   "cell_type": "markdown",
   "metadata": {},
   "source": [
    "## 4. Next comes the mapper code\n",
    "\n",
    "But first we should really get the above working."
   ]
  },
  {
   "cell_type": "code",
   "execution_count": null,
   "metadata": {
    "collapsed": true
   },
   "outputs": [],
   "source": []
  }
 ],
 "metadata": {
  "kernelspec": {
   "display_name": "Python 3",
   "language": "python",
   "name": "python3"
  },
  "language_info": {
   "codemirror_mode": {
    "name": "ipython",
    "version": 3
   },
   "file_extension": ".py",
   "mimetype": "text/x-python",
   "name": "python",
   "nbconvert_exporter": "python",
   "pygments_lexer": "ipython3",
   "version": "3.5.2"
  }
 },
 "nbformat": 4,
 "nbformat_minor": 0
}
